{
 "cells": [
  {
   "cell_type": "code",
   "execution_count": 2,
   "metadata": {},
   "outputs": [
    {
     "data": {
      "text/plain": [
       "Engine(sqlite:///:memory:)"
      ]
     },
     "execution_count": 2,
     "metadata": {},
     "output_type": "execute_result"
    }
   ],
   "source": [
    "from sqlalchemy import create_engine\n",
    "\n",
    "engine = create_engine('sqlite:///:memory:', echo=True)\n",
    "engine"
   ]
  },
  {
   "cell_type": "code",
   "execution_count": 3,
   "metadata": {},
   "outputs": [
    {
     "name": "stdout",
     "output_type": "stream",
     "text": [
      "2023-11-26 16:41:59,976 INFO sqlalchemy.engine.Engine BEGIN (implicit)\n",
      "2023-11-26 16:41:59,977 INFO sqlalchemy.engine.Engine --sql\n",
      "        CREATE TABLE IF NOT EXISTS CLIENTE (\n",
      "            id INTEGER PRIMARY KEY AUTOINCREMENT,\n",
      "            nome VARCHAR(50) NOT NULL,\n",
      "            cpf CHAR(11) NOT NULL UNIQUE\n",
      "        )\n",
      "    \n",
      "2023-11-26 16:41:59,978 INFO sqlalchemy.engine.Engine [generated in 0.00068s] ()\n",
      "2023-11-26 16:41:59,978 INFO sqlalchemy.engine.Engine --sql\n",
      "        CREATE TABLE IF NOT EXISTS CONTA (\n",
      "            id INTEGER PRIMARY KEY AUTOINCREMENT,\n",
      "            saldo REAL(7,2) NOT NULL DEFAULT 0,\n",
      "            id_cliente INTEGER NOT NULL,\n",
      "            FOREIGN KEY (id_cliente) REFERENCES CLIENTE (id)\n",
      "        )                    \n",
      "    \n",
      "2023-11-26 16:41:59,979 INFO sqlalchemy.engine.Engine [generated in 0.00045s] ()\n",
      "2023-11-26 16:41:59,980 INFO sqlalchemy.engine.Engine COMMIT\n"
     ]
    }
   ],
   "source": [
    "from sqlalchemy import text\n",
    "\n",
    "with engine.begin() as conn:\n",
    "    conn.execute(text(\"\"\"--sql\n",
    "        CREATE TABLE IF NOT EXISTS CLIENTE (\n",
    "            id INTEGER PRIMARY KEY AUTOINCREMENT,\n",
    "            nome VARCHAR(50) NOT NULL,\n",
    "            cpf CHAR(11) NOT NULL UNIQUE\n",
    "        )\n",
    "    \"\"\"))\n",
    "    conn.execute(text(\"\"\"--sql\n",
    "        CREATE TABLE IF NOT EXISTS CONTA (\n",
    "            id INTEGER PRIMARY KEY AUTOINCREMENT,\n",
    "            saldo REAL(7,2) NOT NULL DEFAULT 0,\n",
    "            id_cliente INTEGER NOT NULL,\n",
    "            FOREIGN KEY (id_cliente) REFERENCES CLIENTE (id)\n",
    "        )                    \n",
    "    \"\"\"))"
   ]
  },
  {
   "cell_type": "code",
   "execution_count": 4,
   "metadata": {},
   "outputs": [
    {
     "name": "stdout",
     "output_type": "stream",
     "text": [
      "2023-11-26 16:41:59,986 INFO sqlalchemy.engine.Engine BEGIN (implicit)\n",
      "2023-11-26 16:41:59,987 INFO sqlalchemy.engine.Engine --sql\n",
      "        INSERT INTO CLIENTE (nome, cpf)\n",
      "            VALUES ('gustavo', '09825330635')\n",
      "    \n",
      "2023-11-26 16:41:59,987 INFO sqlalchemy.engine.Engine [generated in 0.00067s] ()\n",
      "2023-11-26 16:41:59,988 INFO sqlalchemy.engine.Engine COMMIT\n"
     ]
    }
   ],
   "source": [
    "with engine.begin() as conn:\n",
    "    conn.execute(text(\"\"\"--sql\n",
    "        INSERT INTO CLIENTE (nome, cpf)\n",
    "            VALUES ('gustavo', '09825330635')\n",
    "    \"\"\"))"
   ]
  },
  {
   "cell_type": "code",
   "execution_count": 5,
   "metadata": {},
   "outputs": [
    {
     "name": "stdout",
     "output_type": "stream",
     "text": [
      "2023-11-26 16:41:59,994 INFO sqlalchemy.engine.Engine BEGIN (implicit)\n",
      "2023-11-26 16:41:59,995 INFO sqlalchemy.engine.Engine --sql\n",
      "            INSERT INTO CLIENTE (nome, cpf)\n",
      "                VALUES (?, ?)\n",
      "        \n",
      "2023-11-26 16:41:59,996 INFO sqlalchemy.engine.Engine [generated in 0.00066s] [('alberto', '11111111111'), ('renato', '22222222222'), ('cintia', '33333333333')]\n",
      "2023-11-26 16:41:59,997 INFO sqlalchemy.engine.Engine COMMIT\n"
     ]
    }
   ],
   "source": [
    "with engine.begin() as conn:\n",
    "    conn.execute(\n",
    "        text(\"\"\"--sql\n",
    "            INSERT INTO CLIENTE (nome, cpf)\n",
    "                VALUES (:nome, :cpf)\n",
    "        \"\"\"),\n",
    "        [\n",
    "            {'nome': 'alberto', 'cpf': '11111111111'},\n",
    "            {'nome': 'renato', 'cpf': '22222222222'},\n",
    "            {'nome': 'cintia', 'cpf': '33333333333'}\n",
    "        ]\n",
    "    )"
   ]
  },
  {
   "cell_type": "code",
   "execution_count": 7,
   "metadata": {},
   "outputs": [
    {
     "name": "stdout",
     "output_type": "stream",
     "text": [
      "2023-11-26 16:44:22,135 INFO sqlalchemy.engine.Engine BEGIN (implicit)\n",
      "2023-11-26 16:44:22,136 INFO sqlalchemy.engine.Engine --sql\n",
      "        SELECT * FROM CLIENTE\n",
      "    \n",
      "2023-11-26 16:44:22,136 INFO sqlalchemy.engine.Engine [cached since 57.29s ago] ()\n",
      "1 -> gustavo (09825330635)\n",
      "2 -> alberto (11111111111)\n",
      "3 -> renato (22222222222)\n",
      "4 -> cintia (33333333333)\n",
      "2023-11-26 16:44:22,137 INFO sqlalchemy.engine.Engine ROLLBACK\n"
     ]
    }
   ],
   "source": [
    "with engine.connect() as conn:\n",
    "    result = conn.execute(text(\"\"\"--sql\n",
    "        SELECT * FROM CLIENTE\n",
    "    \"\"\"))\n",
    "    \n",
    "    for id, nome, cpf in result:\n",
    "        print(f'{id} -> {nome} ({cpf})')"
   ]
  },
  {
   "cell_type": "code",
   "execution_count": null,
   "metadata": {},
   "outputs": [],
   "source": []
  }
 ],
 "metadata": {
  "kernelspec": {
   "display_name": ".venv",
   "language": "python",
   "name": "python3"
  },
  "language_info": {
   "codemirror_mode": {
    "name": "ipython",
    "version": 3
   },
   "file_extension": ".py",
   "mimetype": "text/x-python",
   "name": "python",
   "nbconvert_exporter": "python",
   "pygments_lexer": "ipython3",
   "version": "3.12.0"
  }
 },
 "nbformat": 4,
 "nbformat_minor": 2
}
