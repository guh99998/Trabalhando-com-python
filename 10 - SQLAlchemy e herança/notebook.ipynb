{
 "cells": [
  {
   "cell_type": "code",
   "execution_count": 1,
   "metadata": {},
   "outputs": [
    {
     "data": {
      "text/plain": [
       "Engine(sqlite:///:memory:)"
      ]
     },
     "execution_count": 1,
     "metadata": {},
     "output_type": "execute_result"
    }
   ],
   "source": [
    "from sqlalchemy import create_engine\n",
    "\n",
    "engine = create_engine('sqlite:///:memory:', echo=True)\n",
    "engine"
   ]
  },
  {
   "cell_type": "code",
   "execution_count": 2,
   "metadata": {},
   "outputs": [],
   "source": [
    "from sqlalchemy.orm import DeclarativeBase\n",
    "\n",
    "class Base(DeclarativeBase):\n",
    "    pass"
   ]
  },
  {
   "cell_type": "code",
   "execution_count": 3,
   "metadata": {},
   "outputs": [
    {
     "name": "stdout",
     "output_type": "stream",
     "text": [
      "MetaData()\n"
     ]
    },
    {
     "data": {
      "text/plain": [
       "<sqlalchemy.orm.decl_api.registry at 0x1c8fa4d9cd0>"
      ]
     },
     "execution_count": 3,
     "metadata": {},
     "output_type": "execute_result"
    }
   ],
   "source": [
    "print(Base.metadata)\n",
    "Base.registry"
   ]
  },
  {
   "cell_type": "markdown",
   "metadata": {},
   "source": [
    "### Mapped classes"
   ]
  },
  {
   "cell_type": "code",
   "execution_count": 4,
   "metadata": {},
   "outputs": [],
   "source": [
    "from sqlalchemy.orm import Mapped, mapped_column, relationship\n",
    "from sqlalchemy import String, ForeignKey\n",
    "from typing import Optional, List\n",
    "\n",
    "\n",
    "class Cliente(Base):\n",
    "    __tablename__ = 'CLIENTE'\n",
    "\n",
    "    id: Mapped[int] = mapped_column(primary_key=True)\n",
    "    nome: Mapped[str] = mapped_column(String(50))\n",
    "    sobrenome: Mapped[Optional[str]]\n",
    "\n",
    "    contas: Mapped[List['Conta']] = relationship(back_populates='cliente')\n",
    "\n",
    "    def __repr__(self) -> str:\n",
    "        return f'Cliente(id={self.id!r}, nome={self.nome!r}, sobrenome={self.sobrenome!r}, contas={self.contas!r})'\n",
    "\n",
    "\n",
    "class Conta(Base):\n",
    "    __tablename__ = 'CONTA'\n",
    "\n",
    "    id: Mapped[int] = mapped_column(primary_key=True)\n",
    "    saldo: Mapped[float] = mapped_column(default=0)\n",
    "    id_cliente = mapped_column(ForeignKey('CLIENTE.id'))\n",
    "\n",
    "    cliente: Mapped[Cliente] = relationship(back_populates='contas')\n",
    "\n",
    "    def __repr__(self) -> str:\n",
    "        return f'Conta(id={self.id!r}, saldo={self.saldo!r}, id_cliente={self.id_cliente!r}, cliente={self.cliente.nome!r})'"
   ]
  },
  {
   "cell_type": "code",
   "execution_count": 5,
   "metadata": {},
   "outputs": [
    {
     "name": "stdout",
     "output_type": "stream",
     "text": [
      "2023-11-30 20:08:45,657 INFO sqlalchemy.engine.Engine BEGIN (implicit)\n",
      "2023-11-30 20:08:45,658 INFO sqlalchemy.engine.Engine PRAGMA main.table_info(\"CLIENTE\")\n",
      "2023-11-30 20:08:45,658 INFO sqlalchemy.engine.Engine [raw sql] ()\n",
      "2023-11-30 20:08:45,659 INFO sqlalchemy.engine.Engine PRAGMA temp.table_info(\"CLIENTE\")\n",
      "2023-11-30 20:08:45,660 INFO sqlalchemy.engine.Engine [raw sql] ()\n",
      "2023-11-30 20:08:45,660 INFO sqlalchemy.engine.Engine PRAGMA main.table_info(\"CONTA\")\n",
      "2023-11-30 20:08:45,661 INFO sqlalchemy.engine.Engine [raw sql] ()\n",
      "2023-11-30 20:08:45,662 INFO sqlalchemy.engine.Engine PRAGMA temp.table_info(\"CONTA\")\n",
      "2023-11-30 20:08:45,662 INFO sqlalchemy.engine.Engine [raw sql] ()\n",
      "2023-11-30 20:08:45,663 INFO sqlalchemy.engine.Engine \n",
      "CREATE TABLE \"CLIENTE\" (\n",
      "\tid INTEGER NOT NULL, \n",
      "\tnome VARCHAR(50) NOT NULL, \n",
      "\tsobrenome VARCHAR, \n",
      "\tPRIMARY KEY (id)\n",
      ")\n",
      "\n",
      "\n",
      "2023-11-30 20:08:45,664 INFO sqlalchemy.engine.Engine [no key 0.00073s] ()\n",
      "2023-11-30 20:08:45,665 INFO sqlalchemy.engine.Engine \n",
      "CREATE TABLE \"CONTA\" (\n",
      "\tid INTEGER NOT NULL, \n",
      "\tsaldo FLOAT NOT NULL, \n",
      "\tid_cliente INTEGER, \n",
      "\tPRIMARY KEY (id), \n",
      "\tFOREIGN KEY(id_cliente) REFERENCES \"CLIENTE\" (id)\n",
      ")\n",
      "\n",
      "\n",
      "2023-11-30 20:08:45,666 INFO sqlalchemy.engine.Engine [no key 0.00057s] ()\n",
      "2023-11-30 20:08:45,666 INFO sqlalchemy.engine.Engine COMMIT\n"
     ]
    }
   ],
   "source": [
    "Base.metadata.create_all(engine)"
   ]
  },
  {
   "cell_type": "code",
   "execution_count": 6,
   "metadata": {},
   "outputs": [
    {
     "name": "stdout",
     "output_type": "stream",
     "text": [
      "2023-11-30 20:08:45,673 INFO sqlalchemy.engine.Engine BEGIN (implicit)\n",
      "2023-11-30 20:08:45,674 INFO sqlalchemy.engine.Engine SELECT name FROM sqlite_master WHERE type='table' AND name NOT LIKE 'sqlite~_%' ESCAPE '~' ORDER BY name\n",
      "2023-11-30 20:08:45,674 INFO sqlalchemy.engine.Engine [raw sql] ()\n",
      "2023-11-30 20:08:45,674 INFO sqlalchemy.engine.Engine ROLLBACK\n"
     ]
    },
    {
     "data": {
      "text/plain": [
       "['CLIENTE', 'CONTA']"
      ]
     },
     "execution_count": 6,
     "metadata": {},
     "output_type": "execute_result"
    }
   ],
   "source": [
    "from sqlalchemy import inspect\n",
    "\n",
    "inspect(engine).get_table_names()"
   ]
  },
  {
   "cell_type": "code",
   "execution_count": 7,
   "metadata": {},
   "outputs": [
    {
     "data": {
      "text/plain": [
       "Cliente(id=None, nome='alberto', sobrenome='frigatto', contas=[])"
      ]
     },
     "execution_count": 7,
     "metadata": {},
     "output_type": "execute_result"
    }
   ],
   "source": [
    "alberto = Cliente(nome='alberto', sobrenome='frigatto')\n",
    "alberto"
   ]
  },
  {
   "cell_type": "code",
   "execution_count": 8,
   "metadata": {},
   "outputs": [
    {
     "data": {
      "text/plain": [
       "Cliente(id=None, nome='gustavo', sobrenome=None, contas=[])"
      ]
     },
     "execution_count": 8,
     "metadata": {},
     "output_type": "execute_result"
    }
   ],
   "source": [
    "gustavo = Cliente(nome='gustavo')\n",
    "gustavo"
   ]
  },
  {
   "cell_type": "code",
   "execution_count": 9,
   "metadata": {},
   "outputs": [
    {
     "data": {
      "text/plain": [
       "<sqlalchemy.orm.session.Session at 0x1c8fb1b0f20>"
      ]
     },
     "execution_count": 9,
     "metadata": {},
     "output_type": "execute_result"
    }
   ],
   "source": [
    "from sqlalchemy.orm import Session\n",
    "\n",
    "session = Session(engine)\n",
    "session"
   ]
  },
  {
   "cell_type": "code",
   "execution_count": 10,
   "metadata": {},
   "outputs": [],
   "source": [
    "session.add(alberto)\n",
    "session.add(gustavo)"
   ]
  },
  {
   "cell_type": "code",
   "execution_count": 11,
   "metadata": {},
   "outputs": [
    {
     "data": {
      "text/plain": [
       "IdentitySet([Cliente(id=None, nome='alberto', sobrenome='frigatto', contas=[]), Cliente(id=None, nome='gustavo', sobrenome=None, contas=[])])"
      ]
     },
     "execution_count": 11,
     "metadata": {},
     "output_type": "execute_result"
    }
   ],
   "source": [
    "session.new"
   ]
  },
  {
   "cell_type": "code",
   "execution_count": 12,
   "metadata": {},
   "outputs": [
    {
     "name": "stdout",
     "output_type": "stream",
     "text": [
      "2023-11-30 20:08:45,714 INFO sqlalchemy.engine.Engine BEGIN (implicit)\n",
      "2023-11-30 20:08:45,716 INFO sqlalchemy.engine.Engine INSERT INTO \"CLIENTE\" (nome, sobrenome) VALUES (?, ?) RETURNING id\n",
      "2023-11-30 20:08:45,717 INFO sqlalchemy.engine.Engine [generated in 0.00011s (insertmanyvalues) 1/2 (ordered; batch not supported)] ('alberto', 'frigatto')\n",
      "2023-11-30 20:08:45,718 INFO sqlalchemy.engine.Engine INSERT INTO \"CLIENTE\" (nome, sobrenome) VALUES (?, ?) RETURNING id\n",
      "2023-11-30 20:08:45,718 INFO sqlalchemy.engine.Engine [insertmanyvalues 2/2 (ordered; batch not supported)] ('gustavo', None)\n"
     ]
    }
   ],
   "source": [
    "session.flush()"
   ]
  },
  {
   "cell_type": "code",
   "execution_count": 13,
   "metadata": {},
   "outputs": [
    {
     "name": "stdout",
     "output_type": "stream",
     "text": [
      "2023-11-30 20:08:45,728 INFO sqlalchemy.engine.Engine SELECT \"CONTA\".id AS \"CONTA_id\", \"CONTA\".saldo AS \"CONTA_saldo\", \"CONTA\".id_cliente AS \"CONTA_id_cliente\" \n",
      "FROM \"CONTA\" \n",
      "WHERE ? = \"CONTA\".id_cliente\n",
      "2023-11-30 20:08:45,728 INFO sqlalchemy.engine.Engine [generated in 0.00075s] (2,)\n"
     ]
    },
    {
     "data": {
      "text/plain": [
       "Cliente(id=2, nome='gustavo', sobrenome=None, contas=[])"
      ]
     },
     "execution_count": 13,
     "metadata": {},
     "output_type": "execute_result"
    }
   ],
   "source": [
    "gustavo"
   ]
  },
  {
   "cell_type": "code",
   "execution_count": 14,
   "metadata": {},
   "outputs": [
    {
     "data": {
      "text/plain": [
       "Cliente(id=2, nome='gustavo', sobrenome=None, contas=[])"
      ]
     },
     "execution_count": 14,
     "metadata": {},
     "output_type": "execute_result"
    }
   ],
   "source": [
    "session.get(Cliente, 2)"
   ]
  },
  {
   "cell_type": "code",
   "execution_count": 15,
   "metadata": {},
   "outputs": [
    {
     "data": {
      "text/plain": [
       "1"
      ]
     },
     "execution_count": 15,
     "metadata": {},
     "output_type": "execute_result"
    }
   ],
   "source": [
    "alberto.id"
   ]
  },
  {
   "cell_type": "code",
   "execution_count": 16,
   "metadata": {},
   "outputs": [
    {
     "data": {
      "text/plain": [
       "2"
      ]
     },
     "execution_count": 16,
     "metadata": {},
     "output_type": "execute_result"
    }
   ],
   "source": [
    "gustavo.id"
   ]
  },
  {
   "cell_type": "code",
   "execution_count": 17,
   "metadata": {},
   "outputs": [
    {
     "name": "stdout",
     "output_type": "stream",
     "text": [
      "2023-11-30 20:08:45,762 INFO sqlalchemy.engine.Engine COMMIT\n"
     ]
    }
   ],
   "source": [
    "session.commit()\n",
    "session.close()"
   ]
  },
  {
   "cell_type": "code",
   "execution_count": 18,
   "metadata": {},
   "outputs": [
    {
     "name": "stdout",
     "output_type": "stream",
     "text": [
      "SELECT \"CLIENTE\".id, \"CLIENTE\".nome, \"CLIENTE\".sobrenome \n",
      "FROM \"CLIENTE\"\n"
     ]
    }
   ],
   "source": [
    "from sqlalchemy import select\n",
    "\n",
    "print(select(Cliente))"
   ]
  },
  {
   "cell_type": "code",
   "execution_count": 19,
   "metadata": {},
   "outputs": [
    {
     "name": "stdout",
     "output_type": "stream",
     "text": [
      "2023-11-30 20:08:45,778 INFO sqlalchemy.engine.Engine BEGIN (implicit)\n",
      "2023-11-30 20:08:45,779 INFO sqlalchemy.engine.Engine SELECT \"CLIENTE\".id, \"CLIENTE\".nome, \"CLIENTE\".sobrenome \n",
      "FROM \"CLIENTE\"\n",
      "2023-11-30 20:08:45,780 INFO sqlalchemy.engine.Engine [generated in 0.00095s] ()\n",
      "1 -> alberto -> frigatto\n",
      "2 -> gustavo -> None\n",
      "2023-11-30 20:08:45,781 INFO sqlalchemy.engine.Engine ROLLBACK\n"
     ]
    }
   ],
   "source": [
    "with Session(engine) as session:\n",
    "    result = session.scalars(select(Cliente))\n",
    "\n",
    "    for cliente in result:\n",
    "        print(f'{cliente.id} -> {cliente.nome} -> {cliente.sobrenome}')"
   ]
  },
  {
   "cell_type": "code",
   "execution_count": 20,
   "metadata": {},
   "outputs": [
    {
     "name": "stdout",
     "output_type": "stream",
     "text": [
      "False\n"
     ]
    }
   ],
   "source": [
    "with Session(engine) as session:\n",
    "    vinicius = Cliente(nome='Vinicius', sobrenome='Alcântara')\n",
    "    # session.add(vinicius)\n",
    "\n",
    "    print(vinicius in session)"
   ]
  },
  {
   "cell_type": "code",
   "execution_count": 21,
   "metadata": {},
   "outputs": [
    {
     "name": "stdout",
     "output_type": "stream",
     "text": [
      "2023-11-30 20:08:45,799 INFO sqlalchemy.engine.Engine BEGIN (implicit)\n",
      "2023-11-30 20:08:45,801 INFO sqlalchemy.engine.Engine SELECT \"CLIENTE\".id, \"CLIENTE\".nome, \"CLIENTE\".sobrenome \n",
      "FROM \"CLIENTE\" \n",
      "WHERE \"CLIENTE\".nome = ?\n",
      "2023-11-30 20:08:45,802 INFO sqlalchemy.engine.Engine [generated in 0.00107s] ('gustavo',)\n",
      "2023-11-30 20:08:45,804 INFO sqlalchemy.engine.Engine SELECT \"CONTA\".id AS \"CONTA_id\", \"CONTA\".saldo AS \"CONTA_saldo\", \"CONTA\".id_cliente AS \"CONTA_id_cliente\" \n",
      "FROM \"CONTA\" \n",
      "WHERE ? = \"CONTA\".id_cliente\n",
      "2023-11-30 20:08:45,805 INFO sqlalchemy.engine.Engine [cached since 0.07838s ago] (2,)\n",
      "Cliente(id=2, nome='gustavo', sobrenome=None, contas=[])\n",
      "2023-11-30 20:08:45,808 INFO sqlalchemy.engine.Engine SELECT \"CLIENTE\".id, \"CLIENTE\".nome, \"CLIENTE\".sobrenome \n",
      "FROM \"CLIENTE\" \n",
      "WHERE \"CLIENTE\".nome = ?\n",
      "2023-11-30 20:08:45,808 INFO sqlalchemy.engine.Engine [cached since 0.006314s ago] ('gustavo',)\n",
      "2023-11-30 20:08:45,809 INFO sqlalchemy.engine.Engine SELECT \"CONTA\".id AS \"CONTA_id\", \"CONTA\".saldo AS \"CONTA_saldo\", \"CONTA\".id_cliente AS \"CONTA_id_cliente\" \n",
      "FROM \"CONTA\" \n",
      "WHERE ? = \"CONTA\".id_cliente\n",
      "2023-11-30 20:08:45,810 INFO sqlalchemy.engine.Engine [cached since 0.08286s ago] (2,)\n",
      "Cliente(id=2, nome='gustavo', sobrenome=None, contas=[])\n",
      "2023-11-30 20:08:45,811 INFO sqlalchemy.engine.Engine ROLLBACK\n"
     ]
    }
   ],
   "source": [
    "with Session(engine) as session:\n",
    "    print(session.execute(select(Cliente).filter_by(nome='gustavo')).scalar_one())\n",
    "    print(session.scalar(select(Cliente).filter_by(nome='gustavo')))"
   ]
  },
  {
   "cell_type": "code",
   "execution_count": 22,
   "metadata": {},
   "outputs": [
    {
     "name": "stdout",
     "output_type": "stream",
     "text": [
      "2023-11-30 20:08:45,817 INFO sqlalchemy.engine.Engine BEGIN (implicit)\n",
      "2023-11-30 20:08:45,819 INFO sqlalchemy.engine.Engine SELECT \"CLIENTE\".id AS \"CLIENTE_id\", \"CLIENTE\".nome AS \"CLIENTE_nome\", \"CLIENTE\".sobrenome AS \"CLIENTE_sobrenome\" \n",
      "FROM \"CLIENTE\" \n",
      "WHERE \"CLIENTE\".id = ?\n",
      "2023-11-30 20:08:45,819 INFO sqlalchemy.engine.Engine [generated in 0.00069s] (1,)\n",
      "2023-11-30 20:08:45,821 INFO sqlalchemy.engine.Engine SELECT \"CONTA\".id AS \"CONTA_id\", \"CONTA\".saldo AS \"CONTA_saldo\", \"CONTA\".id_cliente AS \"CONTA_id_cliente\" \n",
      "FROM \"CONTA\" \n",
      "WHERE ? = \"CONTA\".id_cliente\n",
      "2023-11-30 20:08:45,822 INFO sqlalchemy.engine.Engine [cached since 0.09446s ago] (1,)\n"
     ]
    },
    {
     "data": {
      "text/plain": [
       "Cliente(id=1, nome='alberto', sobrenome='frigatto', contas=[])"
      ]
     },
     "execution_count": 22,
     "metadata": {},
     "output_type": "execute_result"
    }
   ],
   "source": [
    "session = Session(engine)\n",
    "\n",
    "alberto = session.get(Cliente, 1)\n",
    "alberto"
   ]
  },
  {
   "cell_type": "code",
   "execution_count": 23,
   "metadata": {},
   "outputs": [],
   "source": [
    "alberto.nome = 'Alberto Luíz'"
   ]
  },
  {
   "cell_type": "code",
   "execution_count": 24,
   "metadata": {},
   "outputs": [
    {
     "data": {
      "text/plain": [
       "IdentitySet([Cliente(id=1, nome='Alberto Luíz', sobrenome='frigatto', contas=[])])"
      ]
     },
     "execution_count": 24,
     "metadata": {},
     "output_type": "execute_result"
    }
   ],
   "source": [
    "session.dirty"
   ]
  },
  {
   "cell_type": "code",
   "execution_count": 25,
   "metadata": {},
   "outputs": [
    {
     "name": "stdout",
     "output_type": "stream",
     "text": [
      "2023-11-30 20:08:45,842 INFO sqlalchemy.engine.Engine UPDATE \"CLIENTE\" SET nome=? WHERE \"CLIENTE\".id = ?\n",
      "2023-11-30 20:08:45,843 INFO sqlalchemy.engine.Engine [generated in 0.00064s] ('Alberto Luíz', 1)\n",
      "2023-11-30 20:08:45,844 INFO sqlalchemy.engine.Engine SELECT \"CLIENTE\".sobrenome \n",
      "FROM \"CLIENTE\" \n",
      "WHERE \"CLIENTE\".id = ?\n",
      "2023-11-30 20:08:45,844 INFO sqlalchemy.engine.Engine [generated in 0.00061s] (2,)\n"
     ]
    }
   ],
   "source": [
    "alberto_sobrenome = session.scalar(select(Cliente.sobrenome).where(Cliente.id == 2))\n",
    "alberto_sobrenome"
   ]
  },
  {
   "cell_type": "code",
   "execution_count": 26,
   "metadata": {},
   "outputs": [],
   "source": [
    "session.delete(alberto)"
   ]
  },
  {
   "cell_type": "code",
   "execution_count": 27,
   "metadata": {},
   "outputs": [
    {
     "name": "stdout",
     "output_type": "stream",
     "text": [
      "2023-11-30 20:08:45,857 INFO sqlalchemy.engine.Engine DELETE FROM \"CLIENTE\" WHERE \"CLIENTE\".id = ?\n",
      "2023-11-30 20:08:45,857 INFO sqlalchemy.engine.Engine [generated in 0.00065s] (1,)\n",
      "2023-11-30 20:08:45,858 INFO sqlalchemy.engine.Engine SELECT \"CLIENTE\".id, \"CLIENTE\".nome, \"CLIENTE\".sobrenome \n",
      "FROM \"CLIENTE\" \n",
      "WHERE \"CLIENTE\".nome = ?\n",
      "2023-11-30 20:08:45,859 INFO sqlalchemy.engine.Engine [cached since 0.05719s ago] ('Alberto Luíz',)\n"
     ]
    }
   ],
   "source": [
    "session.execute(select(Cliente).filter_by(nome='Alberto Luíz')).first()"
   ]
  },
  {
   "cell_type": "code",
   "execution_count": 28,
   "metadata": {},
   "outputs": [
    {
     "name": "stdout",
     "output_type": "stream",
     "text": [
      "2023-11-30 20:08:45,865 INFO sqlalchemy.engine.Engine INSERT INTO \"CLIENTE\" (nome, sobrenome) VALUES (?, ?)\n",
      "2023-11-30 20:08:45,866 INFO sqlalchemy.engine.Engine [generated in 0.00062s] ('Fred', 'Boat')\n",
      "2023-11-30 20:08:45,867 INFO sqlalchemy.engine.Engine COMMIT\n"
     ]
    }
   ],
   "source": [
    "fred = Cliente(nome='Fred', sobrenome='Boat')\n",
    "\n",
    "session.add(fred)\n",
    "session.commit()"
   ]
  },
  {
   "cell_type": "code",
   "execution_count": 29,
   "metadata": {},
   "outputs": [
    {
     "name": "stdout",
     "output_type": "stream",
     "text": [
      "2023-11-30 20:08:45,873 INFO sqlalchemy.engine.Engine BEGIN (implicit)\n",
      "2023-11-30 20:08:45,874 INFO sqlalchemy.engine.Engine SELECT \"CLIENTE\".id AS \"CLIENTE_id\", \"CLIENTE\".nome AS \"CLIENTE_nome\", \"CLIENTE\".sobrenome AS \"CLIENTE_sobrenome\" \n",
      "FROM \"CLIENTE\" \n",
      "WHERE \"CLIENTE\".id = ?\n",
      "2023-11-30 20:08:45,875 INFO sqlalchemy.engine.Engine [generated in 0.00061s] (3,)\n",
      "2023-11-30 20:08:45,876 INFO sqlalchemy.engine.Engine SELECT \"CONTA\".id AS \"CONTA_id\", \"CONTA\".saldo AS \"CONTA_saldo\", \"CONTA\".id_cliente AS \"CONTA_id_cliente\" \n",
      "FROM \"CONTA\" \n",
      "WHERE ? = \"CONTA\".id_cliente\n",
      "2023-11-30 20:08:45,877 INFO sqlalchemy.engine.Engine [cached since 0.1498s ago] (3,)\n"
     ]
    },
    {
     "data": {
      "text/plain": [
       "Cliente(id=3, nome='Fred', sobrenome='Boat', contas=[])"
      ]
     },
     "execution_count": 29,
     "metadata": {},
     "output_type": "execute_result"
    }
   ],
   "source": [
    "fred"
   ]
  },
  {
   "cell_type": "code",
   "execution_count": 30,
   "metadata": {},
   "outputs": [
    {
     "data": {
      "text/plain": [
       "{'_sa_instance_state': <sqlalchemy.orm.state.InstanceState at 0x1c8fb4ed3d0>,\n",
       " 'nome': 'Fred',\n",
       " 'id': 3,\n",
       " 'sobrenome': 'Boat',\n",
       " 'contas': []}"
      ]
     },
     "execution_count": 30,
     "metadata": {},
     "output_type": "execute_result"
    }
   ],
   "source": [
    "fred.__dict__"
   ]
  },
  {
   "cell_type": "code",
   "execution_count": 31,
   "metadata": {},
   "outputs": [
    {
     "name": "stdout",
     "output_type": "stream",
     "text": [
      "2023-11-30 20:08:45,891 INFO sqlalchemy.engine.Engine ROLLBACK\n"
     ]
    }
   ],
   "source": [
    "session.rollback()"
   ]
  },
  {
   "cell_type": "code",
   "execution_count": 32,
   "metadata": {},
   "outputs": [
    {
     "data": {
      "text/plain": [
       "{'_sa_instance_state': <sqlalchemy.orm.state.InstanceState at 0x1c8fb4ed3d0>}"
      ]
     },
     "execution_count": 32,
     "metadata": {},
     "output_type": "execute_result"
    }
   ],
   "source": [
    "fred.__dict__"
   ]
  },
  {
   "cell_type": "code",
   "execution_count": 33,
   "metadata": {},
   "outputs": [
    {
     "name": "stdout",
     "output_type": "stream",
     "text": [
      "2023-11-30 20:08:45,902 INFO sqlalchemy.engine.Engine BEGIN (implicit)\n",
      "2023-11-30 20:08:45,902 INFO sqlalchemy.engine.Engine SELECT \"CLIENTE\".id AS \"CLIENTE_id\", \"CLIENTE\".nome AS \"CLIENTE_nome\", \"CLIENTE\".sobrenome AS \"CLIENTE_sobrenome\" \n",
      "FROM \"CLIENTE\" \n",
      "WHERE \"CLIENTE\".id = ?\n",
      "2023-11-30 20:08:45,903 INFO sqlalchemy.engine.Engine [cached since 0.02851s ago] (3,)\n",
      "2023-11-30 20:08:45,904 INFO sqlalchemy.engine.Engine SELECT \"CONTA\".id AS \"CONTA_id\", \"CONTA\".saldo AS \"CONTA_saldo\", \"CONTA\".id_cliente AS \"CONTA_id_cliente\" \n",
      "FROM \"CONTA\" \n",
      "WHERE ? = \"CONTA\".id_cliente\n",
      "2023-11-30 20:08:45,904 INFO sqlalchemy.engine.Engine [cached since 0.177s ago] (3,)\n"
     ]
    },
    {
     "data": {
      "text/plain": [
       "Cliente(id=3, nome='Fred', sobrenome='Boat', contas=[])"
      ]
     },
     "execution_count": 33,
     "metadata": {},
     "output_type": "execute_result"
    }
   ],
   "source": [
    "fred"
   ]
  },
  {
   "cell_type": "code",
   "execution_count": 34,
   "metadata": {},
   "outputs": [],
   "source": [
    "session.delete(fred)"
   ]
  },
  {
   "cell_type": "code",
   "execution_count": 35,
   "metadata": {},
   "outputs": [
    {
     "name": "stdout",
     "output_type": "stream",
     "text": [
      "2023-11-30 20:08:45,917 INFO sqlalchemy.engine.Engine ROLLBACK\n"
     ]
    }
   ],
   "source": [
    "session.rollback()"
   ]
  },
  {
   "cell_type": "code",
   "execution_count": 36,
   "metadata": {},
   "outputs": [
    {
     "name": "stdout",
     "output_type": "stream",
     "text": [
      "2023-11-30 20:08:45,922 INFO sqlalchemy.engine.Engine BEGIN (implicit)\n",
      "2023-11-30 20:08:45,923 INFO sqlalchemy.engine.Engine SELECT \"CLIENTE\".id AS \"CLIENTE_id\", \"CLIENTE\".nome AS \"CLIENTE_nome\", \"CLIENTE\".sobrenome AS \"CLIENTE_sobrenome\" \n",
      "FROM \"CLIENTE\" \n",
      "WHERE \"CLIENTE\".id = ?\n",
      "2023-11-30 20:08:45,923 INFO sqlalchemy.engine.Engine [cached since 0.04949s ago] (3,)\n",
      "2023-11-30 20:08:45,925 INFO sqlalchemy.engine.Engine SELECT \"CONTA\".id AS \"CONTA_id\", \"CONTA\".saldo AS \"CONTA_saldo\", \"CONTA\".id_cliente AS \"CONTA_id_cliente\" \n",
      "FROM \"CONTA\" \n",
      "WHERE ? = \"CONTA\".id_cliente\n",
      "2023-11-30 20:08:45,925 INFO sqlalchemy.engine.Engine [cached since 0.1984s ago] (3,)\n"
     ]
    },
    {
     "data": {
      "text/plain": [
       "Cliente(id=3, nome='Fred', sobrenome='Boat', contas=[])"
      ]
     },
     "execution_count": 36,
     "metadata": {},
     "output_type": "execute_result"
    }
   ],
   "source": [
    "fred"
   ]
  },
  {
   "cell_type": "code",
   "execution_count": 37,
   "metadata": {},
   "outputs": [
    {
     "data": {
      "text/plain": [
       "True"
      ]
     },
     "execution_count": 37,
     "metadata": {},
     "output_type": "execute_result"
    }
   ],
   "source": [
    "fred in session"
   ]
  },
  {
   "cell_type": "code",
   "execution_count": 38,
   "metadata": {},
   "outputs": [
    {
     "name": "stdout",
     "output_type": "stream",
     "text": [
      "2023-11-30 20:08:45,940 INFO sqlalchemy.engine.Engine ROLLBACK\n"
     ]
    }
   ],
   "source": [
    "session.close()"
   ]
  },
  {
   "cell_type": "code",
   "execution_count": 39,
   "metadata": {},
   "outputs": [
    {
     "name": "stdout",
     "output_type": "stream",
     "text": [
      "2023-11-30 20:08:45,948 INFO sqlalchemy.engine.Engine BEGIN (implicit)\n",
      "2023-11-30 20:08:45,948 INFO sqlalchemy.engine.Engine SELECT \"CLIENTE\".id, \"CLIENTE\".nome, \"CLIENTE\".sobrenome \n",
      "FROM \"CLIENTE\"\n",
      "2023-11-30 20:08:45,949 INFO sqlalchemy.engine.Engine [cached since 0.17s ago] ()\n",
      "2 -> gustavo -> None\n",
      "3 -> Fred -> Boat\n",
      "2023-11-30 20:08:45,950 INFO sqlalchemy.engine.Engine ROLLBACK\n"
     ]
    }
   ],
   "source": [
    "with Session(engine) as session:\n",
    "    result = session.scalars(select(Cliente))\n",
    "\n",
    "    for cliente in result:\n",
    "        print(f'{cliente.id} -> {cliente.nome} -> {cliente.sobrenome}')"
   ]
  },
  {
   "cell_type": "code",
   "execution_count": 40,
   "metadata": {},
   "outputs": [
    {
     "data": {
      "text/plain": [
       "Cliente(id=3, nome='Fred', sobrenome='Boat', contas=[])"
      ]
     },
     "execution_count": 40,
     "metadata": {},
     "output_type": "execute_result"
    }
   ],
   "source": [
    "fred"
   ]
  },
  {
   "cell_type": "code",
   "execution_count": 41,
   "metadata": {},
   "outputs": [
    {
     "data": {
      "text/plain": [
       "Conta(id=None, saldo=0, id_cliente=None, cliente='Fred')"
      ]
     },
     "execution_count": 41,
     "metadata": {},
     "output_type": "execute_result"
    }
   ],
   "source": [
    "conta_fred = Conta(saldo=0, cliente=fred)\n",
    "conta_fred"
   ]
  },
  {
   "cell_type": "code",
   "execution_count": 42,
   "metadata": {},
   "outputs": [
    {
     "name": "stdout",
     "output_type": "stream",
     "text": [
      "2023-11-30 20:08:45,970 INFO sqlalchemy.engine.Engine BEGIN (implicit)\n",
      "2023-11-30 20:08:45,971 INFO sqlalchemy.engine.Engine INSERT INTO \"CONTA\" (saldo, id_cliente) VALUES (?, ?)\n",
      "2023-11-30 20:08:45,972 INFO sqlalchemy.engine.Engine [generated in 0.00063s] (0.0, 3)\n",
      "2023-11-30 20:08:45,973 INFO sqlalchemy.engine.Engine COMMIT\n"
     ]
    }
   ],
   "source": [
    "session = Session(engine)\n",
    "\n",
    "session.add(conta_fred)\n",
    "session.commit()"
   ]
  },
  {
   "cell_type": "code",
   "execution_count": 43,
   "metadata": {},
   "outputs": [
    {
     "name": "stdout",
     "output_type": "stream",
     "text": [
      "2023-11-30 20:08:45,979 INFO sqlalchemy.engine.Engine BEGIN (implicit)\n",
      "2023-11-30 20:08:45,980 INFO sqlalchemy.engine.Engine SELECT \"CONTA\".id AS \"CONTA_id\", \"CONTA\".saldo AS \"CONTA_saldo\", \"CONTA\".id_cliente AS \"CONTA_id_cliente\" \n",
      "FROM \"CONTA\" \n",
      "WHERE \"CONTA\".id = ?\n",
      "2023-11-30 20:08:45,981 INFO sqlalchemy.engine.Engine [generated in 0.00066s] (1,)\n",
      "2023-11-30 20:08:45,982 INFO sqlalchemy.engine.Engine SELECT \"CLIENTE\".id AS \"CLIENTE_id\", \"CLIENTE\".nome AS \"CLIENTE_nome\", \"CLIENTE\".sobrenome AS \"CLIENTE_sobrenome\" \n",
      "FROM \"CLIENTE\" \n",
      "WHERE \"CLIENTE\".id = ?\n",
      "2023-11-30 20:08:45,982 INFO sqlalchemy.engine.Engine [cached since 0.1084s ago] (3,)\n"
     ]
    },
    {
     "data": {
      "text/plain": [
       "Conta(id=1, saldo=0.0, id_cliente=3, cliente='Fred')"
      ]
     },
     "execution_count": 43,
     "metadata": {},
     "output_type": "execute_result"
    }
   ],
   "source": [
    "conta_fred"
   ]
  },
  {
   "cell_type": "code",
   "execution_count": 44,
   "metadata": {},
   "outputs": [
    {
     "name": "stdout",
     "output_type": "stream",
     "text": [
      "2023-11-30 20:08:45,990 INFO sqlalchemy.engine.Engine SELECT \"CONTA\".id AS \"CONTA_id\", \"CONTA\".saldo AS \"CONTA_saldo\", \"CONTA\".id_cliente AS \"CONTA_id_cliente\" \n",
      "FROM \"CONTA\" \n",
      "WHERE ? = \"CONTA\".id_cliente\n",
      "2023-11-30 20:08:45,991 INFO sqlalchemy.engine.Engine [cached since 0.2635s ago] (3,)\n"
     ]
    },
    {
     "data": {
      "text/plain": [
       "Conta(id=1, saldo=0.0, id_cliente=3, cliente='Fred')"
      ]
     },
     "execution_count": 44,
     "metadata": {},
     "output_type": "execute_result"
    }
   ],
   "source": [
    "fred.contas[0]"
   ]
  },
  {
   "cell_type": "code",
   "execution_count": 45,
   "metadata": {},
   "outputs": [
    {
     "name": "stdout",
     "output_type": "stream",
     "text": [
      "2023-11-30 20:08:45,999 INFO sqlalchemy.engine.Engine ROLLBACK\n"
     ]
    }
   ],
   "source": [
    "session.close()"
   ]
  }
 ],
 "metadata": {
  "kernelspec": {
   "display_name": ".venv",
   "language": "python",
   "name": "python3"
  },
  "language_info": {
   "codemirror_mode": {
    "name": "ipython",
    "version": 3
   },
   "file_extension": ".py",
   "mimetype": "text/x-python",
   "name": "python",
   "nbconvert_exporter": "python",
   "pygments_lexer": "ipython3",
   "version": "3.12.0"
  }
 },
 "nbformat": 4,
 "nbformat_minor": 2
}
