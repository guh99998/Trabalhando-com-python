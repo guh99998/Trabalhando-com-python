{
 "cells": [
  {
   "cell_type": "code",
   "execution_count": 1,
   "metadata": {},
   "outputs": [
    {
     "name": "stdout",
     "output_type": "stream",
     "text": [
      "2023-12-06 16:38:43,126 INFO sqlalchemy.engine.Engine BEGIN (implicit)\n",
      "2023-12-06 16:38:43,128 INFO sqlalchemy.engine.Engine PRAGMA main.table_info(\"USUARIO\")\n",
      "2023-12-06 16:38:43,129 INFO sqlalchemy.engine.Engine [raw sql] ()\n",
      "2023-12-06 16:38:43,131 INFO sqlalchemy.engine.Engine PRAGMA temp.table_info(\"USUARIO\")\n",
      "2023-12-06 16:38:43,132 INFO sqlalchemy.engine.Engine [raw sql] ()\n",
      "2023-12-06 16:38:43,138 INFO sqlalchemy.engine.Engine \n",
      "CREATE TABLE \"USUARIO\" (\n",
      "\tid INTEGER NOT NULL, \n",
      "\tname VARCHAR(50) NOT NULL, \n",
      "\temail VARCHAR(320) NOT NULL, \n",
      "\tpassword VARCHAR(50) NOT NULL, \n",
      "\tPRIMARY KEY (id), \n",
      "\tUNIQUE (email)\n",
      ")\n",
      "\n",
      "\n",
      "2023-12-06 16:38:43,140 INFO sqlalchemy.engine.Engine [no key 0.00172s] ()\n",
      "2023-12-06 16:38:43,144 INFO sqlalchemy.engine.Engine COMMIT\n"
     ]
    }
   ],
   "source": [
    "from typing import Any\n",
    "from sqlalchemy import create_engine\n",
    "from sqlalchemy.orm import DeclarativeBase\n",
    "from sqlalchemy.orm import mapped_column, Mapped\n",
    "from sqlalchemy import String\n",
    "from werkzeug.security import generate_password_hash\n",
    "\n",
    "db = create_engine('sqlite:///:memory:', echo=True)\n",
    "\n",
    "\n",
    "class Base(DeclarativeBase):\n",
    "    pass\n",
    "\n",
    "\n",
    "class User(Base):\n",
    "    __tablename__ = 'USUARIO'\n",
    "\n",
    "    id: Mapped[int] = mapped_column(primary_key=True)\n",
    "    name: Mapped[str] = mapped_column(String(50), nullable=False)\n",
    "    email: Mapped[str] = mapped_column(String(320), nullable=False, unique=True)\n",
    "    password: Mapped[str] = mapped_column(String(50), nullable=False)\n",
    "\n",
    "    def __init__(self, *, name: str, email: str, password: str):\n",
    "        self.name = name\n",
    "        self.email = email\n",
    "        self.password = generate_password_hash(password)\n",
    "\n",
    "    def __repr__(self) -> str:\n",
    "        return f'User(id={self.id!r}, name={self.name!r}, email={self.email!r}, password={self.password!r})'\n",
    "\n",
    "\n",
    "Base.metadata.create_all(db)"
   ]
  },
  {
   "cell_type": "code",
   "execution_count": 2,
   "metadata": {},
   "outputs": [
    {
     "name": "stdout",
     "output_type": "stream",
     "text": [
      "2023-12-06 16:38:43,172 INFO sqlalchemy.engine.Engine BEGIN (implicit)\n",
      "2023-12-06 16:38:43,181 INFO sqlalchemy.engine.Engine SELECT \"USUARIO\".id, \"USUARIO\".name, \"USUARIO\".email, \"USUARIO\".password \n",
      "FROM \"USUARIO\" \n",
      "WHERE \"USUARIO\".name = ?\n",
      "2023-12-06 16:38:43,189 INFO sqlalchemy.engine.Engine [generated in 0.00843s] ('Alberto',)\n",
      "None\n",
      "2023-12-06 16:38:43,193 INFO sqlalchemy.engine.Engine ROLLBACK\n"
     ]
    }
   ],
   "source": [
    "from sqlalchemy.orm import Session\n",
    "from sqlalchemy import select, and_\n",
    "\n",
    "with Session(db) as session:\n",
    "    print(session.scalar(select(User).where(User.name == 'Alberto')))"
   ]
  },
  {
   "cell_type": "code",
   "execution_count": 3,
   "metadata": {},
   "outputs": [
    {
     "ename": "AttributeError",
     "evalue": "'SessionTransaction' object has no attribute 'add'",
     "output_type": "error",
     "traceback": [
      "\u001b[1;31m---------------------------------------------------------------------------\u001b[0m",
      "\u001b[1;31mAttributeError\u001b[0m                            Traceback (most recent call last)",
      "\u001b[1;32md:\\PROJECTS\\PYTHON\\PROGRAMS\\Trabalhando-com-python\\16 - Sistema de login com Flask\\note.ipynb Célula 3\u001b[0m line \u001b[0;36m2\n\u001b[0;32m      <a href='vscode-notebook-cell:/d%3A/PROJECTS/PYTHON/PROGRAMS/Trabalhando-com-python/16%20-%20Sistema%20de%20login%20com%20Flask/note.ipynb#W2sZmlsZQ%3D%3D?line=0'>1</a>\u001b[0m \u001b[39mwith\u001b[39;00m Session(db)\u001b[39m.\u001b[39mbegin() \u001b[39mas\u001b[39;00m session:\n\u001b[1;32m----> <a href='vscode-notebook-cell:/d%3A/PROJECTS/PYTHON/PROGRAMS/Trabalhando-com-python/16%20-%20Sistema%20de%20login%20com%20Flask/note.ipynb#W2sZmlsZQ%3D%3D?line=1'>2</a>\u001b[0m     session\u001b[39m.\u001b[39;49madd(User(name\u001b[39m=\u001b[39m\u001b[39m'\u001b[39m\u001b[39mAlberto\u001b[39m\u001b[39m'\u001b[39m, email\u001b[39m=\u001b[39m\u001b[39m'\u001b[39m\u001b[39malberto@gmail.com\u001b[39m\u001b[39m'\u001b[39m, password\u001b[39m=\u001b[39m\u001b[39m'\u001b[39m\u001b[39m123\u001b[39m\u001b[39m'\u001b[39m))\n",
      "\u001b[1;31mAttributeError\u001b[0m: 'SessionTransaction' object has no attribute 'add'"
     ]
    }
   ],
   "source": [
    "with Session(db) as session:\n",
    "    session.add(User(name='Alberto', email='alberto@gmail.com', password='123'))\n",
    "    session.commit()"
   ]
  },
  {
   "cell_type": "code",
   "execution_count": null,
   "metadata": {},
   "outputs": [
    {
     "name": "stdout",
     "output_type": "stream",
     "text": [
      "2023-12-06 16:31:20,449 INFO sqlalchemy.engine.Engine BEGIN (implicit)\n",
      "2023-12-06 16:31:20,452 INFO sqlalchemy.engine.Engine SELECT \"USUARIO\".id, \"USUARIO\".name, \"USUARIO\".email, \"USUARIO\".password \n",
      "FROM \"USUARIO\" \n",
      "WHERE \"USUARIO\".name = ?\n",
      "2023-12-06 16:31:20,460 INFO sqlalchemy.engine.Engine [cached since 0.4767s ago] ('Alberto',)\n",
      "User(id=1, name='Alberto', email='alberto@gmail.com', password='scrypt:32768:8:1$H7NYQ8BvZc3JiQG6$f064326e652ec28eb24cf71484a981052eaf11f9d7248e8c1baf60ddc34454769b3701fcaa8b4844fed482b39fca338a2dd69c749738d04990ffdab9e4497ab9')\n",
      "2023-12-06 16:31:20,467 INFO sqlalchemy.engine.Engine ROLLBACK\n"
     ]
    }
   ],
   "source": [
    "with Session(db) as session:\n",
    "    print(session.scalar(select(User).where(User.name == 'Alberto')))"
   ]
  },
  {
   "cell_type": "code",
   "execution_count": null,
   "metadata": {},
   "outputs": [
    {
     "name": "stdout",
     "output_type": "stream",
     "text": [
      "2023-12-06 16:31:20,513 INFO sqlalchemy.engine.Engine BEGIN (implicit)\n",
      "2023-12-06 16:31:20,517 INFO sqlalchemy.engine.Engine SELECT \"USUARIO\".id, \"USUARIO\".name, \"USUARIO\".email, \"USUARIO\".password \n",
      "FROM \"USUARIO\" \n",
      "WHERE \"USUARIO\".name = ?\n",
      "2023-12-06 16:31:20,519 INFO sqlalchemy.engine.Engine [cached since 0.5372s ago] ('Alberto',)\n",
      "User(id=1, name='Alberto', email='alberto@gmail.com', password='scrypt:32768:8:1$H7NYQ8BvZc3JiQG6$f064326e652ec28eb24cf71484a981052eaf11f9d7248e8c1baf60ddc34454769b3701fcaa8b4844fed482b39fca338a2dd69c749738d04990ffdab9e4497ab9')\n",
      "2023-12-06 16:31:20,526 INFO sqlalchemy.engine.Engine ROLLBACK\n"
     ]
    }
   ],
   "source": [
    "with Session(db) as session:\n",
    "    print(session.scalar(select(User).where(User.name == 'Alberto')))"
   ]
  },
  {
   "cell_type": "code",
   "execution_count": null,
   "metadata": {},
   "outputs": [
    {
     "name": "stdout",
     "output_type": "stream",
     "text": [
      "2023-12-06 16:31:20,557 INFO sqlalchemy.engine.Engine BEGIN (implicit)\n",
      "2023-12-06 16:31:20,562 INFO sqlalchemy.engine.Engine SELECT \"USUARIO\".id, \"USUARIO\".name, \"USUARIO\".email, \"USUARIO\".password \n",
      "FROM \"USUARIO\" \n",
      "WHERE \"USUARIO\".name = ?\n",
      "2023-12-06 16:31:20,564 INFO sqlalchemy.engine.Engine [cached since 0.5813s ago] ('Alberto',)\n",
      "2023-12-06 16:31:20,568 INFO sqlalchemy.engine.Engine SELECT \"USUARIO\".id, \"USUARIO\".name, \"USUARIO\".email, \"USUARIO\".password \n",
      "FROM \"USUARIO\" \n",
      "WHERE \"USUARIO\".name = ?\n",
      "2023-12-06 16:31:20,572 INFO sqlalchemy.engine.Engine [cached since 0.5892s ago] ('Alberto',)\n",
      "True\n",
      "2023-12-06 16:31:20,579 INFO sqlalchemy.engine.Engine ROLLBACK\n"
     ]
    }
   ],
   "source": [
    "with Session(db) as session:\n",
    "    senha_1 = session.scalar(select(User).where(User.name == 'Alberto'))\n",
    "    senha_2 = session.scalar(select(User).where(User.name == 'Alberto'))\n",
    "\n",
    "    print(senha_1 == senha_2)"
   ]
  }
 ],
 "metadata": {
  "kernelspec": {
   "display_name": ".venv",
   "language": "python",
   "name": "python3"
  },
  "language_info": {
   "codemirror_mode": {
    "name": "ipython",
    "version": 3
   },
   "file_extension": ".py",
   "mimetype": "text/x-python",
   "name": "python",
   "nbconvert_exporter": "python",
   "pygments_lexer": "ipython3",
   "version": "3.10.9"
  }
 },
 "nbformat": 4,
 "nbformat_minor": 2
}
