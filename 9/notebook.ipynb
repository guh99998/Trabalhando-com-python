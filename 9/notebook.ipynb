{
 "cells": [
  {
   "cell_type": "code",
   "execution_count": 3,
   "metadata": {},
   "outputs": [
    {
     "data": {
      "text/plain": [
       "Engine(sqlite:///:memory:)"
      ]
     },
     "execution_count": 3,
     "metadata": {},
     "output_type": "execute_result"
    }
   ],
   "source": [
    "from sqlalchemy import create_engine\n",
    "\n",
    "engine = create_engine('sqlite:///:memory:', echo=True)\n",
    "engine"
   ]
  },
  {
   "cell_type": "code",
   "execution_count": 4,
   "metadata": {},
   "outputs": [
    {
     "data": {
      "text/plain": [
       "MetaData()"
      ]
     },
     "execution_count": 4,
     "metadata": {},
     "output_type": "execute_result"
    }
   ],
   "source": [
    "from sqlalchemy import MetaData\n",
    "\n",
    "meta_data_obj = MetaData()\n",
    "meta_data_obj"
   ]
  },
  {
   "cell_type": "code",
   "execution_count": 7,
   "metadata": {},
   "outputs": [
    {
     "data": {
      "text/plain": [
       "Table('PESSOA', MetaData(), Column('id', Integer(), table=<PESSOA>, primary_key=True, nullable=False), Column('nome', String(length=50), table=<PESSOA>, nullable=False), Column('sobrenome', String(), table=<PESSOA>), schema=None)"
      ]
     },
     "execution_count": 7,
     "metadata": {},
     "output_type": "execute_result"
    }
   ],
   "source": [
    "from sqlalchemy import Table, Column, Integer, String\n",
    "\n",
    "pessoa_table = Table (\n",
    "    'PESSOA',\n",
    "    meta_data_obj,\n",
    "    Column('id', Integer, primary_key=True),\n",
    "    Column('nome', String(50), nullable=False),\n",
    "    Column('sobrenome', String),\n",
    "    extend_existing=True\n",
    ")\n",
    "pessoa_table"
   ]
  },
  {
   "cell_type": "code",
   "execution_count": 8,
   "metadata": {},
   "outputs": [
    {
     "data": {
      "text/plain": [
       "Table('ANIMAL', MetaData(), Column('id', Integer(), table=<ANIMAL>, primary_key=True, nullable=False), Column('nome', String(length=50), table=<ANIMAL>, nullable=False), Column('id_pessoa', Integer(), ForeignKey('PESSOA.id'), table=<ANIMAL>), schema=None)"
      ]
     },
     "execution_count": 8,
     "metadata": {},
     "output_type": "execute_result"
    }
   ],
   "source": [
    "from sqlalchemy import ForeignKey\n",
    "\n",
    "animal_table = Table (\n",
    "    'ANIMAL',\n",
    "    meta_data_obj,\n",
    "    Column('id', Integer, primary_key=True),\n",
    "    Column('nome', String(50), nullable=False),\n",
    "    Column('id_pessoa', ForeignKey('PESSOA.id')),\n",
    "    extend_existing=True\n",
    ")\n",
    "animal_table"
   ]
  },
  {
   "cell_type": "code",
   "execution_count": 10,
   "metadata": {},
   "outputs": [
    {
     "name": "stdout",
     "output_type": "stream",
     "text": [
      "2023-11-26 17:07:33,011 INFO sqlalchemy.engine.Engine BEGIN (implicit)\n",
      "2023-11-26 17:07:33,011 INFO sqlalchemy.engine.Engine PRAGMA main.table_info(\"PESSOA\")\n",
      "2023-11-26 17:07:33,012 INFO sqlalchemy.engine.Engine [raw sql] ()\n",
      "2023-11-26 17:07:33,013 INFO sqlalchemy.engine.Engine PRAGMA main.table_info(\"ANIMAL\")\n",
      "2023-11-26 17:07:33,013 INFO sqlalchemy.engine.Engine [raw sql] ()\n",
      "2023-11-26 17:07:33,013 INFO sqlalchemy.engine.Engine COMMIT\n"
     ]
    }
   ],
   "source": [
    "meta_data_obj.create_all(engine)"
   ]
  },
  {
   "cell_type": "code",
   "execution_count": 15,
   "metadata": {},
   "outputs": [
    {
     "name": "stdout",
     "output_type": "stream",
     "text": [
      "2023-11-26 17:11:01,939 INFO sqlalchemy.engine.Engine BEGIN (implicit)\n",
      "2023-11-26 17:11:01,939 INFO sqlalchemy.engine.Engine PRAGMA main.table_xinfo(\"ANIMAL\")\n",
      "2023-11-26 17:11:01,940 INFO sqlalchemy.engine.Engine [raw sql] ()\n",
      "2023-11-26 17:11:01,940 INFO sqlalchemy.engine.Engine ROLLBACK\n"
     ]
    },
    {
     "data": {
      "text/plain": [
       "[{'name': 'id',\n",
       "  'type': INTEGER(),\n",
       "  'nullable': False,\n",
       "  'default': None,\n",
       "  'primary_key': 1},\n",
       " {'name': 'nome',\n",
       "  'type': VARCHAR(length=50),\n",
       "  'nullable': False,\n",
       "  'default': None,\n",
       "  'primary_key': 0},\n",
       " {'name': 'id_pessoa',\n",
       "  'type': INTEGER(),\n",
       "  'nullable': True,\n",
       "  'default': None,\n",
       "  'primary_key': 0}]"
      ]
     },
     "execution_count": 15,
     "metadata": {},
     "output_type": "execute_result"
    }
   ],
   "source": [
    "from sqlalchemy import inspect\n",
    "\n",
    "inspect(engine).dialect"
   ]
  },
  {
   "cell_type": "code",
   "execution_count": null,
   "metadata": {},
   "outputs": [],
   "source": []
  }
 ],
 "metadata": {
  "kernelspec": {
   "display_name": ".venv",
   "language": "python",
   "name": "python3"
  },
  "language_info": {
   "codemirror_mode": {
    "name": "ipython",
    "version": 3
   },
   "file_extension": ".py",
   "mimetype": "text/x-python",
   "name": "python",
   "nbconvert_exporter": "python",
   "pygments_lexer": "ipython3",
   "version": "3.12.0"
  }
 },
 "nbformat": 4,
 "nbformat_minor": 2
}
