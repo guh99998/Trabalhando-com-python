{
 "cells": [
  {
   "cell_type": "code",
   "execution_count": 2,
   "metadata": {},
   "outputs": [
    {
     "data": {
      "text/plain": [
       "Engine(sqlite:///:memory:)"
      ]
     },
     "execution_count": 2,
     "metadata": {},
     "output_type": "execute_result"
    }
   ],
   "source": [
    "from sqlalchemy import create_engine\n",
    "\n",
    "engine = create_engine('sqlite:///:memory:', echo=True)\n",
    "engine"
   ]
  },
  {
   "cell_type": "code",
   "execution_count": 3,
   "metadata": {},
   "outputs": [],
   "source": [
    "from sqlalchemy.orm import DeclarativeBase\n",
    "\n",
    "class Base(DeclarativeBase):\n",
    "    pass"
   ]
  },
  {
   "cell_type": "markdown",
   "metadata": {},
   "source": [
    "### Mapped classes - Animal"
   ]
  },
  {
   "cell_type": "code",
   "execution_count": 4,
   "metadata": {},
   "outputs": [],
   "source": [
    "from sqlalchemy.orm import Mapped, mapped_column\n",
    "from sqlalchemy import String, ForeignKey\n",
    "from typing import Optional\n",
    "\n",
    "class Pessoa(Base):\n",
    "    __tablename__ = 'PESSOA'\n",
    "\n",
    "    id: Mapped[int] = mapped_column(primary_key=True)\n",
    "    nome: Mapped[str] = mapped_column(String(50))\n",
    "    sobrenome: Mapped[Optional[str]]\n",
    "\n",
    "    def __repr__(self) -> str:\n",
    "        return f'Pessoa(id={self.id!r}, nome={self.nome!r}, sobrenome={self.sobrenome!r})'"
   ]
  },
  {
   "cell_type": "code",
   "execution_count": 5,
   "metadata": {},
   "outputs": [],
   "source": [
    "class Animal(Base):\n",
    "    __tablename__ = 'ANIMAL'\n",
    "\n",
    "    id: Mapped[int] = mapped_column(primary_key=True)\n",
    "    nome: Mapped[str] = mapped_column(String(50))\n",
    "    id_pessoa = mapped_column(ForeignKey('PESSOA.id'))\n",
    "\n",
    "    def __repr__(self) -> str:\n",
    "        return f'Animal(id={self.id!r}, nome={self.nome!r}, id_pessoa={self.id_pessoa!r})'"
   ]
  },
  {
   "cell_type": "code",
   "execution_count": 6,
   "metadata": {},
   "outputs": [
    {
     "name": "stdout",
     "output_type": "stream",
     "text": [
      "2023-11-26 18:36:43,178 INFO sqlalchemy.engine.Engine BEGIN (implicit)\n",
      "2023-11-26 18:36:43,179 INFO sqlalchemy.engine.Engine PRAGMA main.table_info(\"PESSOA\")\n",
      "2023-11-26 18:36:43,179 INFO sqlalchemy.engine.Engine [raw sql] ()\n",
      "2023-11-26 18:36:43,180 INFO sqlalchemy.engine.Engine PRAGMA temp.table_info(\"PESSOA\")\n",
      "2023-11-26 18:36:43,181 INFO sqlalchemy.engine.Engine [raw sql] ()\n",
      "2023-11-26 18:36:43,181 INFO sqlalchemy.engine.Engine PRAGMA main.table_info(\"ANIMAL\")\n",
      "2023-11-26 18:36:43,182 INFO sqlalchemy.engine.Engine [raw sql] ()\n",
      "2023-11-26 18:36:43,183 INFO sqlalchemy.engine.Engine PRAGMA temp.table_info(\"ANIMAL\")\n",
      "2023-11-26 18:36:43,183 INFO sqlalchemy.engine.Engine [raw sql] ()\n",
      "2023-11-26 18:36:43,184 INFO sqlalchemy.engine.Engine \n",
      "CREATE TABLE \"PESSOA\" (\n",
      "\tid INTEGER NOT NULL, \n",
      "\tnome VARCHAR(50) NOT NULL, \n",
      "\tsobrenome VARCHAR, \n",
      "\tPRIMARY KEY (id)\n",
      ")\n",
      "\n",
      "\n",
      "2023-11-26 18:36:43,184 INFO sqlalchemy.engine.Engine [no key 0.00052s] ()\n",
      "2023-11-26 18:36:43,186 INFO sqlalchemy.engine.Engine \n",
      "CREATE TABLE \"ANIMAL\" (\n",
      "\tid INTEGER NOT NULL, \n",
      "\tnome VARCHAR(50) NOT NULL, \n",
      "\tid_pessoa INTEGER, \n",
      "\tPRIMARY KEY (id), \n",
      "\tFOREIGN KEY(id_pessoa) REFERENCES \"PESSOA\" (id)\n",
      ")\n",
      "\n",
      "\n",
      "2023-11-26 18:36:43,187 INFO sqlalchemy.engine.Engine [no key 0.00090s] ()\n",
      "2023-11-26 18:36:43,188 INFO sqlalchemy.engine.Engine COMMIT\n"
     ]
    }
   ],
   "source": [
    "Base.metadata.create_all(engine)"
   ]
  },
  {
   "cell_type": "code",
   "execution_count": 7,
   "metadata": {},
   "outputs": [
    {
     "name": "stdout",
     "output_type": "stream",
     "text": [
      "2023-11-26 18:36:43,195 INFO sqlalchemy.engine.Engine BEGIN (implicit)\n",
      "2023-11-26 18:36:43,195 INFO sqlalchemy.engine.Engine SELECT name FROM sqlite_master WHERE type='table' AND name NOT LIKE 'sqlite~_%' ESCAPE '~' ORDER BY name\n",
      "2023-11-26 18:36:43,195 INFO sqlalchemy.engine.Engine [raw sql] ()\n",
      "2023-11-26 18:36:43,196 INFO sqlalchemy.engine.Engine ROLLBACK\n"
     ]
    },
    {
     "data": {
      "text/plain": [
       "['ANIMAL', 'PESSOA']"
      ]
     },
     "execution_count": 7,
     "metadata": {},
     "output_type": "execute_result"
    }
   ],
   "source": [
    "from sqlalchemy import inspect\n",
    "\n",
    "inspect(engine).get_table_names()"
   ]
  },
  {
   "cell_type": "code",
   "execution_count": 8,
   "metadata": {},
   "outputs": [
    {
     "data": {
      "text/plain": [
       "Pessoa(id=None, nome='Jubileu', sobrenome=None)"
      ]
     },
     "execution_count": 8,
     "metadata": {},
     "output_type": "execute_result"
    }
   ],
   "source": [
    "jubileu = Pessoa(nome='Jubileu')\n",
    "jubileu"
   ]
  },
  {
   "cell_type": "code",
   "execution_count": 9,
   "metadata": {},
   "outputs": [
    {
     "data": {
      "text/plain": [
       "Pessoa(id=None, nome='José', sobrenome='Pocai')"
      ]
     },
     "execution_count": 9,
     "metadata": {},
     "output_type": "execute_result"
    }
   ],
   "source": [
    "jose_pocai = Pessoa(nome='José', sobrenome='Pocai')\n",
    "jose_pocai"
   ]
  },
  {
   "cell_type": "code",
   "execution_count": 10,
   "metadata": {},
   "outputs": [
    {
     "data": {
      "text/plain": [
       "<sqlalchemy.orm.session.Session at 0x1fd4ce7fc80>"
      ]
     },
     "execution_count": 10,
     "metadata": {},
     "output_type": "execute_result"
    }
   ],
   "source": [
    "from sqlalchemy.orm import Session\n",
    "\n",
    "session = Session(engine, expire_on_commit=False)\n",
    "session"
   ]
  },
  {
   "cell_type": "code",
   "execution_count": 11,
   "metadata": {},
   "outputs": [],
   "source": [
    "session.add_all([jubileu, jose_pocai])"
   ]
  },
  {
   "cell_type": "code",
   "execution_count": 12,
   "metadata": {},
   "outputs": [
    {
     "data": {
      "text/plain": [
       "IdentitySet([Pessoa(id=None, nome='Jubileu', sobrenome=None), Pessoa(id=None, nome='José', sobrenome='Pocai')])"
      ]
     },
     "execution_count": 12,
     "metadata": {},
     "output_type": "execute_result"
    }
   ],
   "source": [
    "session.new #stage"
   ]
  },
  {
   "cell_type": "code",
   "execution_count": 13,
   "metadata": {},
   "outputs": [
    {
     "name": "stdout",
     "output_type": "stream",
     "text": [
      "2023-11-26 18:36:43,235 INFO sqlalchemy.engine.Engine BEGIN (implicit)\n",
      "2023-11-26 18:36:43,237 INFO sqlalchemy.engine.Engine INSERT INTO \"PESSOA\" (nome, sobrenome) VALUES (?, ?) RETURNING id\n",
      "2023-11-26 18:36:43,238 INFO sqlalchemy.engine.Engine [generated in 0.00009s (insertmanyvalues) 1/2 (ordered; batch not supported)] ('Jubileu', None)\n",
      "2023-11-26 18:36:43,239 INFO sqlalchemy.engine.Engine INSERT INTO \"PESSOA\" (nome, sobrenome) VALUES (?, ?) RETURNING id\n",
      "2023-11-26 18:36:43,239 INFO sqlalchemy.engine.Engine [insertmanyvalues 2/2 (ordered; batch not supported)] ('José', 'Pocai')\n",
      "2023-11-26 18:36:43,240 INFO sqlalchemy.engine.Engine COMMIT\n"
     ]
    }
   ],
   "source": [
    "session.commit()"
   ]
  },
  {
   "cell_type": "code",
   "execution_count": 14,
   "metadata": {},
   "outputs": [
    {
     "name": "stdout",
     "output_type": "stream",
     "text": [
      "Pessoa(id=2, nome='José', sobrenome='Pocai')\n"
     ]
    },
    {
     "data": {
      "text/plain": [
       "Pessoa(id=1, nome='Jubileu', sobrenome=None)"
      ]
     },
     "execution_count": 14,
     "metadata": {},
     "output_type": "execute_result"
    }
   ],
   "source": [
    "print(jose_pocai)\n",
    "jubileu"
   ]
  },
  {
   "cell_type": "code",
   "execution_count": 15,
   "metadata": {},
   "outputs": [],
   "source": [
    "session.close()"
   ]
  },
  {
   "cell_type": "code",
   "execution_count": 16,
   "metadata": {},
   "outputs": [
    {
     "name": "stdout",
     "output_type": "stream",
     "text": [
      "2023-11-26 18:36:43,258 INFO sqlalchemy.engine.Engine BEGIN (implicit)\n",
      "2023-11-26 18:36:43,260 INFO sqlalchemy.engine.Engine SELECT \"PESSOA\".id AS \"PESSOA_id\", \"PESSOA\".nome AS \"PESSOA_nome\", \"PESSOA\".sobrenome AS \"PESSOA_sobrenome\" \n",
      "FROM \"PESSOA\" \n",
      "WHERE \"PESSOA\".id = ?\n",
      "2023-11-26 18:36:43,261 INFO sqlalchemy.engine.Engine [generated in 0.00063s] (1,)\n",
      "Pessoa(id=1, nome='Jubileu', sobrenome=None)\n",
      "2023-11-26 18:36:43,262 INFO sqlalchemy.engine.Engine ROLLBACK\n"
     ]
    }
   ],
   "source": [
    "with Session(engine) as session:\n",
    "    print(session.get(Pessoa, 1))"
   ]
  },
  {
   "cell_type": "code",
   "execution_count": 17,
   "metadata": {},
   "outputs": [
    {
     "name": "stdout",
     "output_type": "stream",
     "text": [
      "SELECT \"PESSOA\".id, \"PESSOA\".nome, \"PESSOA\".sobrenome \n",
      "FROM \"PESSOA\"\n"
     ]
    }
   ],
   "source": [
    "from sqlalchemy import select\n",
    "\n",
    "print(select(Pessoa))"
   ]
  },
  {
   "cell_type": "code",
   "execution_count": 18,
   "metadata": {},
   "outputs": [
    {
     "name": "stdout",
     "output_type": "stream",
     "text": [
      "2023-11-26 18:38:59,281 INFO sqlalchemy.engine.Engine BEGIN (implicit)\n",
      "2023-11-26 18:38:59,282 INFO sqlalchemy.engine.Engine SELECT \"PESSOA\".id, \"PESSOA\".nome, \"PESSOA\".sobrenome \n",
      "FROM \"PESSOA\"\n",
      "2023-11-26 18:38:59,283 INFO sqlalchemy.engine.Engine [generated in 0.00044s] ()\n",
      "1 -> Jubileu None\n",
      "2 -> José Pocai\n",
      "2023-11-26 18:38:59,284 INFO sqlalchemy.engine.Engine ROLLBACK\n"
     ]
    }
   ],
   "source": [
    "with Session(engine) as session:\n",
    "    result = session.scalars(select(Pessoa))\n",
    "\n",
    "    for pessoa in result:\n",
    "        print(f'{pessoa.id} -> {pessoa.nome} {pessoa.sobrenome}')"
   ]
  }
 ],
 "metadata": {
  "kernelspec": {
   "display_name": ".venv",
   "language": "python",
   "name": "python3"
  },
  "language_info": {
   "codemirror_mode": {
    "name": "ipython",
    "version": 3
   },
   "file_extension": ".py",
   "mimetype": "text/x-python",
   "name": "python",
   "nbconvert_exporter": "python",
   "pygments_lexer": "ipython3",
   "version": "3.12.0"
  }
 },
 "nbformat": 4,
 "nbformat_minor": 2
}
