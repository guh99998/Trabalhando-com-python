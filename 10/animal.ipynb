{
 "cells": [
  {
   "cell_type": "code",
   "execution_count": 102,
   "metadata": {},
   "outputs": [
    {
     "data": {
      "text/plain": [
       "Engine(sqlite:///:memory:)"
      ]
     },
     "execution_count": 102,
     "metadata": {},
     "output_type": "execute_result"
    }
   ],
   "source": [
    "from sqlalchemy import create_engine\n",
    "\n",
    "engine = create_engine('sqlite:///:memory:', echo=True)\n",
    "engine"
   ]
  },
  {
   "cell_type": "code",
   "execution_count": 103,
   "metadata": {},
   "outputs": [],
   "source": [
    "from sqlalchemy.orm import DeclarativeBase\n",
    "\n",
    "class Base(DeclarativeBase):\n",
    "    pass"
   ]
  },
  {
   "cell_type": "markdown",
   "metadata": {},
   "source": [
    "### Mapped classes - Animal"
   ]
  },
  {
   "cell_type": "code",
   "execution_count": 104,
   "metadata": {},
   "outputs": [],
   "source": [
    "from sqlalchemy.orm import Mapped, mapped_column, relationship\n",
    "from sqlalchemy import String, ForeignKey\n",
    "from typing import Optional, List\n",
    "\n",
    "class Pessoa(Base):\n",
    "    __tablename__ = 'PESSOA'\n",
    "\n",
    "    id: Mapped[int] = mapped_column(primary_key=True)\n",
    "    nome: Mapped[str] = mapped_column(String(50))\n",
    "    sobrenome: Mapped[Optional[str]]\n",
    "\n",
    "    animais: Mapped[List['Animal']] = relationship(back_populates='pessoa')\n",
    "\n",
    "    def __repr__(self) -> str:\n",
    "        return f'Pessoa(id={self.id!r}, nome={self.nome!r}, sobrenome={self.sobrenome!r}, animais={self.animais!r})'\n",
    "\n",
    "\n",
    "class Animal(Base):\n",
    "    __tablename__ = 'ANIMAL'\n",
    "\n",
    "    id: Mapped[int] = mapped_column(primary_key=True)\n",
    "    nome: Mapped[str] = mapped_column(String(50))\n",
    "    id_pessoa = mapped_column(ForeignKey('PESSOA.id'))\n",
    "\n",
    "    pessoa: Mapped[Pessoa] = relationship(back_populates='animais')\n",
    "\n",
    "    def __repr__(self) -> str:\n",
    "        return f'Animal(id={self.id!r}, nome={self.nome!r}, id_pessoa={self.id_pessoa!r}, pessoa={self.pessoa.nome!r})'"
   ]
  },
  {
   "cell_type": "code",
   "execution_count": 105,
   "metadata": {},
   "outputs": [
    {
     "name": "stdout",
     "output_type": "stream",
     "text": [
      "2023-11-30 20:35:14,616 INFO sqlalchemy.engine.Engine BEGIN (implicit)\n",
      "2023-11-30 20:35:14,617 INFO sqlalchemy.engine.Engine PRAGMA main.table_info(\"PESSOA\")\n",
      "2023-11-30 20:35:14,617 INFO sqlalchemy.engine.Engine [raw sql] ()\n",
      "2023-11-30 20:35:14,618 INFO sqlalchemy.engine.Engine PRAGMA temp.table_info(\"PESSOA\")\n",
      "2023-11-30 20:35:14,618 INFO sqlalchemy.engine.Engine [raw sql] ()\n",
      "2023-11-30 20:35:14,619 INFO sqlalchemy.engine.Engine PRAGMA main.table_info(\"ANIMAL\")\n",
      "2023-11-30 20:35:14,619 INFO sqlalchemy.engine.Engine [raw sql] ()\n",
      "2023-11-30 20:35:14,619 INFO sqlalchemy.engine.Engine PRAGMA temp.table_info(\"ANIMAL\")\n",
      "2023-11-30 20:35:14,620 INFO sqlalchemy.engine.Engine [raw sql] ()\n",
      "2023-11-30 20:35:14,621 INFO sqlalchemy.engine.Engine \n",
      "CREATE TABLE \"PESSOA\" (\n",
      "\tid INTEGER NOT NULL, \n",
      "\tnome VARCHAR(50) NOT NULL, \n",
      "\tsobrenome VARCHAR, \n",
      "\tPRIMARY KEY (id)\n",
      ")\n",
      "\n",
      "\n",
      "2023-11-30 20:35:14,622 INFO sqlalchemy.engine.Engine [no key 0.00068s] ()\n",
      "2023-11-30 20:35:14,622 INFO sqlalchemy.engine.Engine \n",
      "CREATE TABLE \"ANIMAL\" (\n",
      "\tid INTEGER NOT NULL, \n",
      "\tnome VARCHAR(50) NOT NULL, \n",
      "\tid_pessoa INTEGER, \n",
      "\tPRIMARY KEY (id), \n",
      "\tFOREIGN KEY(id_pessoa) REFERENCES \"PESSOA\" (id)\n",
      ")\n",
      "\n",
      "\n",
      "2023-11-30 20:35:14,623 INFO sqlalchemy.engine.Engine [no key 0.00039s] ()\n",
      "2023-11-30 20:35:14,623 INFO sqlalchemy.engine.Engine COMMIT\n"
     ]
    }
   ],
   "source": [
    "Base.metadata.create_all(engine)"
   ]
  },
  {
   "cell_type": "code",
   "execution_count": 106,
   "metadata": {},
   "outputs": [
    {
     "name": "stdout",
     "output_type": "stream",
     "text": [
      "2023-11-30 20:35:14,629 INFO sqlalchemy.engine.Engine BEGIN (implicit)\n",
      "2023-11-30 20:35:14,630 INFO sqlalchemy.engine.Engine SELECT name FROM sqlite_master WHERE type='table' AND name NOT LIKE 'sqlite~_%' ESCAPE '~' ORDER BY name\n",
      "2023-11-30 20:35:14,630 INFO sqlalchemy.engine.Engine [raw sql] ()\n",
      "2023-11-30 20:35:14,632 INFO sqlalchemy.engine.Engine ROLLBACK\n"
     ]
    },
    {
     "data": {
      "text/plain": [
       "['ANIMAL', 'PESSOA']"
      ]
     },
     "execution_count": 106,
     "metadata": {},
     "output_type": "execute_result"
    }
   ],
   "source": [
    "from sqlalchemy import inspect\n",
    "\n",
    "inspect(engine).get_table_names()"
   ]
  },
  {
   "cell_type": "code",
   "execution_count": 107,
   "metadata": {},
   "outputs": [
    {
     "data": {
      "text/plain": [
       "Pessoa(id=None, nome='Jubileu', sobrenome=None, animais=[])"
      ]
     },
     "execution_count": 107,
     "metadata": {},
     "output_type": "execute_result"
    }
   ],
   "source": [
    "jubileu = Pessoa(nome='Jubileu')\n",
    "jubileu"
   ]
  },
  {
   "cell_type": "code",
   "execution_count": 108,
   "metadata": {},
   "outputs": [
    {
     "data": {
      "text/plain": [
       "Pessoa(id=None, nome='José', sobrenome='Pocai', animais=[])"
      ]
     },
     "execution_count": 108,
     "metadata": {},
     "output_type": "execute_result"
    }
   ],
   "source": [
    "jose_pocai = Pessoa(nome='José', sobrenome='Pocai')\n",
    "jose_pocai"
   ]
  },
  {
   "cell_type": "code",
   "execution_count": 109,
   "metadata": {},
   "outputs": [
    {
     "data": {
      "text/plain": [
       "<sqlalchemy.orm.session.Session at 0x28730de6f60>"
      ]
     },
     "execution_count": 109,
     "metadata": {},
     "output_type": "execute_result"
    }
   ],
   "source": [
    "from sqlalchemy.orm import Session\n",
    "\n",
    "session = Session(engine, expire_on_commit=False)\n",
    "session"
   ]
  },
  {
   "cell_type": "code",
   "execution_count": 110,
   "metadata": {},
   "outputs": [],
   "source": [
    "session.add_all([jubileu, jose_pocai])"
   ]
  },
  {
   "cell_type": "code",
   "execution_count": 111,
   "metadata": {},
   "outputs": [
    {
     "data": {
      "text/plain": [
       "IdentitySet([Pessoa(id=None, nome='Jubileu', sobrenome=None, animais=[]), Pessoa(id=None, nome='José', sobrenome='Pocai', animais=[])])"
      ]
     },
     "execution_count": 111,
     "metadata": {},
     "output_type": "execute_result"
    }
   ],
   "source": [
    "session.new #ver o que está no stage"
   ]
  },
  {
   "cell_type": "code",
   "execution_count": 112,
   "metadata": {},
   "outputs": [
    {
     "name": "stdout",
     "output_type": "stream",
     "text": [
      "2023-11-30 20:35:14,677 INFO sqlalchemy.engine.Engine BEGIN (implicit)\n",
      "2023-11-30 20:35:14,679 INFO sqlalchemy.engine.Engine INSERT INTO \"PESSOA\" (nome, sobrenome) VALUES (?, ?) RETURNING id\n",
      "2023-11-30 20:35:14,679 INFO sqlalchemy.engine.Engine [generated in 0.00010s (insertmanyvalues) 1/2 (ordered; batch not supported)] ('Jubileu', None)\n",
      "2023-11-30 20:35:14,680 INFO sqlalchemy.engine.Engine INSERT INTO \"PESSOA\" (nome, sobrenome) VALUES (?, ?) RETURNING id\n",
      "2023-11-30 20:35:14,680 INFO sqlalchemy.engine.Engine [insertmanyvalues 2/2 (ordered; batch not supported)] ('José', 'Pocai')\n",
      "2023-11-30 20:35:14,681 INFO sqlalchemy.engine.Engine COMMIT\n"
     ]
    }
   ],
   "source": [
    "session.commit()"
   ]
  },
  {
   "cell_type": "code",
   "execution_count": 113,
   "metadata": {},
   "outputs": [
    {
     "name": "stdout",
     "output_type": "stream",
     "text": [
      "2023-11-30 20:35:14,688 INFO sqlalchemy.engine.Engine BEGIN (implicit)\n",
      "2023-11-30 20:35:14,689 INFO sqlalchemy.engine.Engine SELECT \"ANIMAL\".id AS \"ANIMAL_id\", \"ANIMAL\".nome AS \"ANIMAL_nome\", \"ANIMAL\".id_pessoa AS \"ANIMAL_id_pessoa\" \n",
      "FROM \"ANIMAL\" \n",
      "WHERE ? = \"ANIMAL\".id_pessoa\n",
      "2023-11-30 20:35:14,690 INFO sqlalchemy.engine.Engine [generated in 0.00065s] (2,)\n",
      "Pessoa(id=2, nome='José', sobrenome='Pocai', animais=[])\n",
      "2023-11-30 20:35:14,691 INFO sqlalchemy.engine.Engine SELECT \"ANIMAL\".id AS \"ANIMAL_id\", \"ANIMAL\".nome AS \"ANIMAL_nome\", \"ANIMAL\".id_pessoa AS \"ANIMAL_id_pessoa\" \n",
      "FROM \"ANIMAL\" \n",
      "WHERE ? = \"ANIMAL\".id_pessoa\n",
      "2023-11-30 20:35:14,692 INFO sqlalchemy.engine.Engine [cached since 0.002863s ago] (1,)\n"
     ]
    },
    {
     "data": {
      "text/plain": [
       "Pessoa(id=1, nome='Jubileu', sobrenome=None, animais=[])"
      ]
     },
     "execution_count": 113,
     "metadata": {},
     "output_type": "execute_result"
    }
   ],
   "source": [
    "print(jose_pocai)\n",
    "jubileu"
   ]
  },
  {
   "cell_type": "code",
   "execution_count": 114,
   "metadata": {},
   "outputs": [
    {
     "name": "stdout",
     "output_type": "stream",
     "text": [
      "2023-11-30 20:35:14,698 INFO sqlalchemy.engine.Engine ROLLBACK\n"
     ]
    }
   ],
   "source": [
    "session.close()"
   ]
  },
  {
   "cell_type": "code",
   "execution_count": 115,
   "metadata": {},
   "outputs": [
    {
     "name": "stdout",
     "output_type": "stream",
     "text": [
      "2023-11-30 20:35:14,705 INFO sqlalchemy.engine.Engine BEGIN (implicit)\n",
      "2023-11-30 20:35:14,706 INFO sqlalchemy.engine.Engine SELECT \"PESSOA\".id AS \"PESSOA_id\", \"PESSOA\".nome AS \"PESSOA_nome\", \"PESSOA\".sobrenome AS \"PESSOA_sobrenome\" \n",
      "FROM \"PESSOA\" \n",
      "WHERE \"PESSOA\".id = ?\n",
      "2023-11-30 20:35:14,707 INFO sqlalchemy.engine.Engine [generated in 0.00084s] (1,)\n",
      "2023-11-30 20:35:14,708 INFO sqlalchemy.engine.Engine SELECT \"ANIMAL\".id AS \"ANIMAL_id\", \"ANIMAL\".nome AS \"ANIMAL_nome\", \"ANIMAL\".id_pessoa AS \"ANIMAL_id_pessoa\" \n",
      "FROM \"ANIMAL\" \n",
      "WHERE ? = \"ANIMAL\".id_pessoa\n",
      "2023-11-30 20:35:14,709 INFO sqlalchemy.engine.Engine [cached since 0.01992s ago] (1,)\n",
      "Pessoa(id=1, nome='Jubileu', sobrenome=None, animais=[])\n",
      "2023-11-30 20:35:14,710 INFO sqlalchemy.engine.Engine ROLLBACK\n"
     ]
    }
   ],
   "source": [
    "with Session(engine) as session:\n",
    "    print(session.get(Pessoa, 1))"
   ]
  },
  {
   "cell_type": "code",
   "execution_count": 116,
   "metadata": {},
   "outputs": [
    {
     "name": "stdout",
     "output_type": "stream",
     "text": [
      "SELECT \"PESSOA\".id, \"PESSOA\".nome, \"PESSOA\".sobrenome \n",
      "FROM \"PESSOA\"\n"
     ]
    }
   ],
   "source": [
    "from sqlalchemy import select\n",
    "\n",
    "print(select(Pessoa))"
   ]
  },
  {
   "cell_type": "code",
   "execution_count": 117,
   "metadata": {},
   "outputs": [
    {
     "name": "stdout",
     "output_type": "stream",
     "text": [
      "2023-11-30 20:35:14,722 INFO sqlalchemy.engine.Engine BEGIN (implicit)\n",
      "2023-11-30 20:35:14,724 INFO sqlalchemy.engine.Engine SELECT \"PESSOA\".id, \"PESSOA\".nome, \"PESSOA\".sobrenome \n",
      "FROM \"PESSOA\"\n",
      "2023-11-30 20:35:14,725 INFO sqlalchemy.engine.Engine [generated in 0.00087s] ()\n",
      "1 -> Jubileu None\n",
      "2 -> José Pocai\n",
      "2023-11-30 20:35:14,726 INFO sqlalchemy.engine.Engine ROLLBACK\n"
     ]
    }
   ],
   "source": [
    "with Session(engine) as session:\n",
    "    result = session.scalars(select(Pessoa))\n",
    "\n",
    "    for pessoa in result:\n",
    "        print(f'{pessoa.id} -> {pessoa.nome} {pessoa.sobrenome}')"
   ]
  },
  {
   "cell_type": "code",
   "execution_count": 118,
   "metadata": {},
   "outputs": [
    {
     "name": "stdout",
     "output_type": "stream",
     "text": [
      "True\n"
     ]
    }
   ],
   "source": [
    "with Session(engine) as session:\n",
    "    cintia = Pessoa(nome='Cintia', sobrenome='Carvalho')\n",
    "    session.add(cintia)\n",
    "\n",
    "    print(cintia in session)"
   ]
  },
  {
   "cell_type": "code",
   "execution_count": 119,
   "metadata": {},
   "outputs": [
    {
     "name": "stdout",
     "output_type": "stream",
     "text": [
      "2023-11-30 20:35:14,748 INFO sqlalchemy.engine.Engine BEGIN (implicit)\n",
      "2023-11-30 20:35:14,749 INFO sqlalchemy.engine.Engine SELECT \"PESSOA\".id, \"PESSOA\".nome, \"PESSOA\".sobrenome \n",
      "FROM \"PESSOA\" \n",
      "WHERE \"PESSOA\".nome = ?\n",
      "2023-11-30 20:35:14,750 INFO sqlalchemy.engine.Engine [generated in 0.00079s] ('José',)\n",
      "2023-11-30 20:35:14,751 INFO sqlalchemy.engine.Engine SELECT \"ANIMAL\".id AS \"ANIMAL_id\", \"ANIMAL\".nome AS \"ANIMAL_nome\", \"ANIMAL\".id_pessoa AS \"ANIMAL_id_pessoa\" \n",
      "FROM \"ANIMAL\" \n",
      "WHERE ? = \"ANIMAL\".id_pessoa\n",
      "2023-11-30 20:35:14,752 INFO sqlalchemy.engine.Engine [cached since 0.06313s ago] (2,)\n",
      "Pessoa(id=2, nome='José', sobrenome='Pocai', animais=[])\n",
      "2023-11-30 20:35:14,753 INFO sqlalchemy.engine.Engine SELECT \"PESSOA\".id, \"PESSOA\".nome, \"PESSOA\".sobrenome \n",
      "FROM \"PESSOA\" \n",
      "WHERE \"PESSOA\".nome = ?\n",
      "2023-11-30 20:35:14,754 INFO sqlalchemy.engine.Engine [cached since 0.004398s ago] ('Jubileu',)\n",
      "2023-11-30 20:35:14,755 INFO sqlalchemy.engine.Engine SELECT \"ANIMAL\".id AS \"ANIMAL_id\", \"ANIMAL\".nome AS \"ANIMAL_nome\", \"ANIMAL\".id_pessoa AS \"ANIMAL_id_pessoa\" \n",
      "FROM \"ANIMAL\" \n",
      "WHERE ? = \"ANIMAL\".id_pessoa\n",
      "2023-11-30 20:35:14,755 INFO sqlalchemy.engine.Engine [cached since 0.06629s ago] (1,)\n",
      "Pessoa(id=1, nome='Jubileu', sobrenome=None, animais=[])\n",
      "2023-11-30 20:35:14,756 INFO sqlalchemy.engine.Engine ROLLBACK\n"
     ]
    }
   ],
   "source": [
    "with Session(engine) as session:\n",
    "    print(session.execute(select(Pessoa).filter_by(nome='José')).scalar_one())\n",
    "    print(session.scalar(select(Pessoa).filter_by(nome='Jubileu')))"
   ]
  },
  {
   "cell_type": "code",
   "execution_count": 120,
   "metadata": {},
   "outputs": [
    {
     "name": "stdout",
     "output_type": "stream",
     "text": [
      "2023-11-30 20:35:14,762 INFO sqlalchemy.engine.Engine BEGIN (implicit)\n",
      "2023-11-30 20:35:14,763 INFO sqlalchemy.engine.Engine SELECT \"PESSOA\".id AS \"PESSOA_id\", \"PESSOA\".nome AS \"PESSOA_nome\", \"PESSOA\".sobrenome AS \"PESSOA_sobrenome\" \n",
      "FROM \"PESSOA\" \n",
      "WHERE \"PESSOA\".id = ?\n",
      "2023-11-30 20:35:14,764 INFO sqlalchemy.engine.Engine [cached since 0.05711s ago] (1,)\n",
      "2023-11-30 20:35:14,765 INFO sqlalchemy.engine.Engine SELECT \"ANIMAL\".id AS \"ANIMAL_id\", \"ANIMAL\".nome AS \"ANIMAL_nome\", \"ANIMAL\".id_pessoa AS \"ANIMAL_id_pessoa\" \n",
      "FROM \"ANIMAL\" \n",
      "WHERE ? = \"ANIMAL\".id_pessoa\n",
      "2023-11-30 20:35:14,766 INFO sqlalchemy.engine.Engine [cached since 0.07666s ago] (1,)\n"
     ]
    },
    {
     "data": {
      "text/plain": [
       "Pessoa(id=1, nome='Jubileu', sobrenome=None, animais=[])"
      ]
     },
     "execution_count": 120,
     "metadata": {},
     "output_type": "execute_result"
    }
   ],
   "source": [
    "session = Session(engine)\n",
    "\n",
    "jubileu = session.get(Pessoa, 1)\n",
    "jubileu"
   ]
  },
  {
   "cell_type": "code",
   "execution_count": 121,
   "metadata": {},
   "outputs": [],
   "source": [
    "jubileu.nome = 'Lorival'"
   ]
  },
  {
   "cell_type": "code",
   "execution_count": 122,
   "metadata": {},
   "outputs": [
    {
     "data": {
      "text/plain": [
       "IdentitySet([Pessoa(id=1, nome='Lorival', sobrenome=None, animais=[])])"
      ]
     },
     "execution_count": 122,
     "metadata": {},
     "output_type": "execute_result"
    }
   ],
   "source": [
    "session.dirty"
   ]
  },
  {
   "cell_type": "code",
   "execution_count": 123,
   "metadata": {},
   "outputs": [
    {
     "name": "stdout",
     "output_type": "stream",
     "text": [
      "2023-11-30 20:35:14,786 INFO sqlalchemy.engine.Engine UPDATE \"PESSOA\" SET nome=? WHERE \"PESSOA\".id = ?\n",
      "2023-11-30 20:35:14,787 INFO sqlalchemy.engine.Engine [generated in 0.00080s] ('Lorival', 1)\n",
      "2023-11-30 20:35:14,788 INFO sqlalchemy.engine.Engine SELECT \"PESSOA\".sobrenome \n",
      "FROM \"PESSOA\" \n",
      "WHERE \"PESSOA\".id = ?\n",
      "2023-11-30 20:35:14,789 INFO sqlalchemy.engine.Engine [generated in 0.00071s] (1,)\n"
     ]
    }
   ],
   "source": [
    "jubileu_sobrenome = session.scalar(select(Pessoa.sobrenome).where(Pessoa.id == 1))\n",
    "jubileu_sobrenome"
   ]
  },
  {
   "cell_type": "code",
   "execution_count": 124,
   "metadata": {},
   "outputs": [],
   "source": [
    "session.delete(jubileu)"
   ]
  },
  {
   "cell_type": "code",
   "execution_count": 125,
   "metadata": {},
   "outputs": [
    {
     "name": "stdout",
     "output_type": "stream",
     "text": [
      "2023-11-30 20:35:14,801 INFO sqlalchemy.engine.Engine DELETE FROM \"PESSOA\" WHERE \"PESSOA\".id = ?\n",
      "2023-11-30 20:35:14,802 INFO sqlalchemy.engine.Engine [generated in 0.00077s] (1,)\n",
      "2023-11-30 20:35:14,803 INFO sqlalchemy.engine.Engine SELECT \"PESSOA\".id, \"PESSOA\".nome, \"PESSOA\".sobrenome \n",
      "FROM \"PESSOA\" \n",
      "WHERE \"PESSOA\".nome = ?\n",
      "2023-11-30 20:35:14,804 INFO sqlalchemy.engine.Engine [cached since 0.05519s ago] ('Lorival',)\n"
     ]
    }
   ],
   "source": [
    "session.execute(select(Pessoa).filter_by(nome = 'Lorival')).first()"
   ]
  },
  {
   "cell_type": "code",
   "execution_count": 126,
   "metadata": {},
   "outputs": [
    {
     "name": "stdout",
     "output_type": "stream",
     "text": [
      "2023-11-30 20:35:14,811 INFO sqlalchemy.engine.Engine INSERT INTO \"PESSOA\" (nome, sobrenome) VALUES (?, ?)\n",
      "2023-11-30 20:35:14,811 INFO sqlalchemy.engine.Engine [generated in 0.00069s] ('Cintia', 'Carvalho')\n",
      "2023-11-30 20:35:14,812 INFO sqlalchemy.engine.Engine COMMIT\n"
     ]
    }
   ],
   "source": [
    "cintia = Pessoa(nome='Cintia', sobrenome='Carvalho')\n",
    "\n",
    "session.add(cintia)\n",
    "session.commit()\n"
   ]
  },
  {
   "cell_type": "code",
   "execution_count": 127,
   "metadata": {},
   "outputs": [
    {
     "name": "stdout",
     "output_type": "stream",
     "text": [
      "2023-11-30 20:35:14,819 INFO sqlalchemy.engine.Engine BEGIN (implicit)\n",
      "2023-11-30 20:35:14,820 INFO sqlalchemy.engine.Engine SELECT \"PESSOA\".id AS \"PESSOA_id\", \"PESSOA\".nome AS \"PESSOA_nome\", \"PESSOA\".sobrenome AS \"PESSOA_sobrenome\" \n",
      "FROM \"PESSOA\" \n",
      "WHERE \"PESSOA\".id = ?\n",
      "2023-11-30 20:35:14,820 INFO sqlalchemy.engine.Engine [generated in 0.00053s] (3,)\n",
      "2023-11-30 20:35:14,821 INFO sqlalchemy.engine.Engine SELECT \"ANIMAL\".id AS \"ANIMAL_id\", \"ANIMAL\".nome AS \"ANIMAL_nome\", \"ANIMAL\".id_pessoa AS \"ANIMAL_id_pessoa\" \n",
      "FROM \"ANIMAL\" \n",
      "WHERE ? = \"ANIMAL\".id_pessoa\n",
      "2023-11-30 20:35:14,822 INFO sqlalchemy.engine.Engine [cached since 0.1329s ago] (3,)\n"
     ]
    },
    {
     "data": {
      "text/plain": [
       "Pessoa(id=3, nome='Cintia', sobrenome='Carvalho', animais=[])"
      ]
     },
     "execution_count": 127,
     "metadata": {},
     "output_type": "execute_result"
    }
   ],
   "source": [
    "cintia"
   ]
  },
  {
   "cell_type": "code",
   "execution_count": 128,
   "metadata": {},
   "outputs": [
    {
     "data": {
      "text/plain": [
       "{'_sa_instance_state': <sqlalchemy.orm.state.InstanceState at 0x28731449af0>,\n",
       " 'sobrenome': 'Carvalho',\n",
       " 'nome': 'Cintia',\n",
       " 'id': 3,\n",
       " 'animais': []}"
      ]
     },
     "execution_count": 128,
     "metadata": {},
     "output_type": "execute_result"
    }
   ],
   "source": [
    "cintia.__dict__"
   ]
  },
  {
   "cell_type": "code",
   "execution_count": 129,
   "metadata": {},
   "outputs": [],
   "source": [
    "session.delete(cintia)"
   ]
  },
  {
   "cell_type": "code",
   "execution_count": 130,
   "metadata": {},
   "outputs": [
    {
     "name": "stdout",
     "output_type": "stream",
     "text": [
      "2023-11-30 20:35:14,838 INFO sqlalchemy.engine.Engine ROLLBACK\n"
     ]
    }
   ],
   "source": [
    "session.rollback()"
   ]
  },
  {
   "cell_type": "code",
   "execution_count": 131,
   "metadata": {},
   "outputs": [
    {
     "name": "stdout",
     "output_type": "stream",
     "text": [
      "2023-11-30 20:35:14,846 INFO sqlalchemy.engine.Engine BEGIN (implicit)\n",
      "2023-11-30 20:35:14,847 INFO sqlalchemy.engine.Engine SELECT \"PESSOA\".id AS \"PESSOA_id\", \"PESSOA\".nome AS \"PESSOA_nome\", \"PESSOA\".sobrenome AS \"PESSOA_sobrenome\" \n",
      "FROM \"PESSOA\" \n",
      "WHERE \"PESSOA\".id = ?\n",
      "2023-11-30 20:35:14,848 INFO sqlalchemy.engine.Engine [cached since 0.0289s ago] (3,)\n",
      "2023-11-30 20:35:14,849 INFO sqlalchemy.engine.Engine SELECT \"ANIMAL\".id AS \"ANIMAL_id\", \"ANIMAL\".nome AS \"ANIMAL_nome\", \"ANIMAL\".id_pessoa AS \"ANIMAL_id_pessoa\" \n",
      "FROM \"ANIMAL\" \n",
      "WHERE ? = \"ANIMAL\".id_pessoa\n",
      "2023-11-30 20:35:14,849 INFO sqlalchemy.engine.Engine [cached since 0.1613s ago] (3,)\n"
     ]
    },
    {
     "data": {
      "text/plain": [
       "Pessoa(id=3, nome='Cintia', sobrenome='Carvalho', animais=[])"
      ]
     },
     "execution_count": 131,
     "metadata": {},
     "output_type": "execute_result"
    }
   ],
   "source": [
    "cintia"
   ]
  },
  {
   "cell_type": "code",
   "execution_count": 132,
   "metadata": {},
   "outputs": [
    {
     "data": {
      "text/plain": [
       "True"
      ]
     },
     "execution_count": 132,
     "metadata": {},
     "output_type": "execute_result"
    }
   ],
   "source": [
    "cintia in session"
   ]
  },
  {
   "cell_type": "code",
   "execution_count": 133,
   "metadata": {},
   "outputs": [
    {
     "name": "stdout",
     "output_type": "stream",
     "text": [
      "2023-11-30 20:35:14,863 INFO sqlalchemy.engine.Engine ROLLBACK\n"
     ]
    }
   ],
   "source": [
    "session.close()"
   ]
  },
  {
   "cell_type": "code",
   "execution_count": 134,
   "metadata": {},
   "outputs": [
    {
     "name": "stdout",
     "output_type": "stream",
     "text": [
      "2023-11-30 20:35:14,869 INFO sqlalchemy.engine.Engine BEGIN (implicit)\n",
      "2023-11-30 20:35:14,870 INFO sqlalchemy.engine.Engine SELECT \"PESSOA\".id, \"PESSOA\".nome, \"PESSOA\".sobrenome \n",
      "FROM \"PESSOA\"\n",
      "2023-11-30 20:35:14,871 INFO sqlalchemy.engine.Engine [cached since 0.147s ago] ()\n",
      "2 -> José -> Pocai\n",
      "3 -> Cintia -> Carvalho\n",
      "2023-11-30 20:35:14,872 INFO sqlalchemy.engine.Engine ROLLBACK\n"
     ]
    }
   ],
   "source": [
    "with Session(engine) as session:\n",
    "    result = session.scalars(select(Pessoa))\n",
    "\n",
    "    for pessoa in result:\n",
    "        print(f'{pessoa.id} -> {pessoa.nome} -> {pessoa.sobrenome}')"
   ]
  },
  {
   "cell_type": "code",
   "execution_count": 135,
   "metadata": {},
   "outputs": [
    {
     "data": {
      "text/plain": [
       "Animal(id=None, nome='Pluto', id_pessoa=None, pessoa='Cintia')"
      ]
     },
     "execution_count": 135,
     "metadata": {},
     "output_type": "execute_result"
    }
   ],
   "source": [
    "animal_cintia = Animal(nome='Pluto', pessoa=cintia)\n",
    "animal_cintia"
   ]
  },
  {
   "cell_type": "code",
   "execution_count": 136,
   "metadata": {},
   "outputs": [
    {
     "name": "stdout",
     "output_type": "stream",
     "text": [
      "2023-11-30 20:35:14,885 INFO sqlalchemy.engine.Engine BEGIN (implicit)\n",
      "2023-11-30 20:35:14,887 INFO sqlalchemy.engine.Engine INSERT INTO \"ANIMAL\" (nome, id_pessoa) VALUES (?, ?)\n",
      "2023-11-30 20:35:14,888 INFO sqlalchemy.engine.Engine [generated in 0.00082s] ('Pluto', 3)\n",
      "2023-11-30 20:35:14,889 INFO sqlalchemy.engine.Engine COMMIT\n"
     ]
    }
   ],
   "source": [
    "session = Session(engine)\n",
    "\n",
    "session.add(animal_cintia)\n",
    "session.commit()"
   ]
  },
  {
   "cell_type": "code",
   "execution_count": 137,
   "metadata": {},
   "outputs": [
    {
     "name": "stdout",
     "output_type": "stream",
     "text": [
      "2023-11-30 20:35:14,894 INFO sqlalchemy.engine.Engine BEGIN (implicit)\n",
      "2023-11-30 20:35:14,896 INFO sqlalchemy.engine.Engine SELECT \"ANIMAL\".id AS \"ANIMAL_id\", \"ANIMAL\".nome AS \"ANIMAL_nome\", \"ANIMAL\".id_pessoa AS \"ANIMAL_id_pessoa\" \n",
      "FROM \"ANIMAL\" \n",
      "WHERE \"ANIMAL\".id = ?\n",
      "2023-11-30 20:35:14,896 INFO sqlalchemy.engine.Engine [generated in 0.00081s] (1,)\n",
      "2023-11-30 20:35:14,898 INFO sqlalchemy.engine.Engine SELECT \"PESSOA\".id AS \"PESSOA_id\", \"PESSOA\".nome AS \"PESSOA_nome\", \"PESSOA\".sobrenome AS \"PESSOA_sobrenome\" \n",
      "FROM \"PESSOA\" \n",
      "WHERE \"PESSOA\".id = ?\n",
      "2023-11-30 20:35:14,898 INFO sqlalchemy.engine.Engine [cached since 0.0793s ago] (3,)\n"
     ]
    },
    {
     "data": {
      "text/plain": [
       "Animal(id=1, nome='Pluto', id_pessoa=3, pessoa='Cintia')"
      ]
     },
     "execution_count": 137,
     "metadata": {},
     "output_type": "execute_result"
    }
   ],
   "source": [
    "animal_cintia"
   ]
  },
  {
   "cell_type": "code",
   "execution_count": 138,
   "metadata": {},
   "outputs": [
    {
     "name": "stdout",
     "output_type": "stream",
     "text": [
      "2023-11-30 20:35:14,906 INFO sqlalchemy.engine.Engine SELECT \"ANIMAL\".id AS \"ANIMAL_id\", \"ANIMAL\".nome AS \"ANIMAL_nome\", \"ANIMAL\".id_pessoa AS \"ANIMAL_id_pessoa\" \n",
      "FROM \"ANIMAL\" \n",
      "WHERE ? = \"ANIMAL\".id_pessoa\n",
      "2023-11-30 20:35:14,907 INFO sqlalchemy.engine.Engine [cached since 0.2185s ago] (3,)\n"
     ]
    },
    {
     "data": {
      "text/plain": [
       "Animal(id=1, nome='Pluto', id_pessoa=3, pessoa='Cintia')"
      ]
     },
     "execution_count": 138,
     "metadata": {},
     "output_type": "execute_result"
    }
   ],
   "source": [
    "cintia.animais[0]"
   ]
  },
  {
   "cell_type": "code",
   "execution_count": 139,
   "metadata": {},
   "outputs": [
    {
     "name": "stdout",
     "output_type": "stream",
     "text": [
      "2023-11-30 20:35:14,914 INFO sqlalchemy.engine.Engine ROLLBACK\n"
     ]
    }
   ],
   "source": [
    "session.close()"
   ]
  }
 ],
 "metadata": {
  "kernelspec": {
   "display_name": ".venv",
   "language": "python",
   "name": "python3"
  },
  "language_info": {
   "codemirror_mode": {
    "name": "ipython",
    "version": 3
   },
   "file_extension": ".py",
   "mimetype": "text/x-python",
   "name": "python",
   "nbconvert_exporter": "python",
   "pygments_lexer": "ipython3",
   "version": "3.12.0"
  }
 },
 "nbformat": 4,
 "nbformat_minor": 2
}
