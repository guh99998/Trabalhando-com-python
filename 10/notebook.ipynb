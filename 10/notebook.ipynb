{
 "cells": [
  {
   "cell_type": "code",
   "execution_count": 77,
   "metadata": {},
   "outputs": [
    {
     "data": {
      "text/plain": [
       "Engine(sqlite:///:memory:)"
      ]
     },
     "execution_count": 77,
     "metadata": {},
     "output_type": "execute_result"
    }
   ],
   "source": [
    "from sqlalchemy import create_engine\n",
    "\n",
    "engine = create_engine('sqlite:///:memory:', echo=True)\n",
    "engine"
   ]
  },
  {
   "cell_type": "code",
   "execution_count": 78,
   "metadata": {},
   "outputs": [],
   "source": [
    "from sqlalchemy.orm import DeclarativeBase\n",
    "\n",
    "class Base(DeclarativeBase):\n",
    "    pass"
   ]
  },
  {
   "cell_type": "code",
   "execution_count": 79,
   "metadata": {},
   "outputs": [
    {
     "name": "stdout",
     "output_type": "stream",
     "text": [
      "MetaData()\n"
     ]
    },
    {
     "data": {
      "text/plain": [
       "<sqlalchemy.orm.decl_api.registry at 0x2be74dcfd90>"
      ]
     },
     "execution_count": 79,
     "metadata": {},
     "output_type": "execute_result"
    }
   ],
   "source": [
    "print(Base.metadata)\n",
    "Base.registry"
   ]
  },
  {
   "cell_type": "markdown",
   "metadata": {},
   "source": [
    "### Mapped classes"
   ]
  },
  {
   "cell_type": "code",
   "execution_count": 80,
   "metadata": {},
   "outputs": [],
   "source": [
    "from sqlalchemy.orm import Mapped, mapped_column\n",
    "from sqlalchemy import String, ForeignKey\n",
    "from typing import Optional\n",
    "\n",
    "\n",
    "class Cliente(Base):\n",
    "    __tablename__ = 'CLIENTE'\n",
    "\n",
    "    id: Mapped[int] = mapped_column(primary_key=True)\n",
    "    nome: Mapped[str] = mapped_column(String(50))\n",
    "    sobrenome: Mapped[Optional[str]]\n",
    "\n",
    "    def __repr__(self) -> str:\n",
    "        return f'Cliente(id={self.id!r}, nome={self.nome!r}, sobrenome={self.sobrenome!r})'"
   ]
  },
  {
   "cell_type": "code",
   "execution_count": 81,
   "metadata": {},
   "outputs": [],
   "source": [
    "class Conta(Base):\n",
    "    __tablename__ = 'CONTA'\n",
    "\n",
    "    id: Mapped[int] = mapped_column(primary_key=True)\n",
    "    saldo: Mapped[float] = mapped_column(default=0)\n",
    "    id_cliente = mapped_column(ForeignKey('CLIENTE.id'))\n",
    "\n",
    "    def __repr__(self) -> str:\n",
    "        return f'Conta(id={self.id!r}, saldo={self.saldo!r}, id_cliente={self.id_cliente!r})'"
   ]
  },
  {
   "cell_type": "code",
   "execution_count": 82,
   "metadata": {},
   "outputs": [
    {
     "name": "stdout",
     "output_type": "stream",
     "text": [
      "2023-11-26 18:00:57,658 INFO sqlalchemy.engine.Engine BEGIN (implicit)\n",
      "2023-11-26 18:00:57,660 INFO sqlalchemy.engine.Engine PRAGMA main.table_info(\"CLIENTE\")\n",
      "2023-11-26 18:00:57,664 INFO sqlalchemy.engine.Engine [raw sql] ()\n",
      "2023-11-26 18:00:57,670 INFO sqlalchemy.engine.Engine PRAGMA temp.table_info(\"CLIENTE\")\n",
      "2023-11-26 18:00:57,677 INFO sqlalchemy.engine.Engine [raw sql] ()\n",
      "2023-11-26 18:00:57,680 INFO sqlalchemy.engine.Engine PRAGMA main.table_info(\"CONTA\")\n",
      "2023-11-26 18:00:57,685 INFO sqlalchemy.engine.Engine [raw sql] ()\n",
      "2023-11-26 18:00:57,689 INFO sqlalchemy.engine.Engine PRAGMA temp.table_info(\"CONTA\")\n",
      "2023-11-26 18:00:57,692 INFO sqlalchemy.engine.Engine [raw sql] ()\n",
      "2023-11-26 18:00:57,696 INFO sqlalchemy.engine.Engine \n",
      "CREATE TABLE \"CLIENTE\" (\n",
      "\tid INTEGER NOT NULL, \n",
      "\tnome VARCHAR(50) NOT NULL, \n",
      "\tsobrenome VARCHAR, \n",
      "\tPRIMARY KEY (id)\n",
      ")\n",
      "\n",
      "\n",
      "2023-11-26 18:00:57,698 INFO sqlalchemy.engine.Engine [no key 0.00228s] ()\n",
      "2023-11-26 18:00:57,702 INFO sqlalchemy.engine.Engine \n",
      "CREATE TABLE \"CONTA\" (\n",
      "\tid INTEGER NOT NULL, \n",
      "\tsaldo FLOAT NOT NULL, \n",
      "\tid_cliente INTEGER, \n",
      "\tPRIMARY KEY (id), \n",
      "\tFOREIGN KEY(id_cliente) REFERENCES \"CLIENTE\" (id)\n",
      ")\n",
      "\n",
      "\n",
      "2023-11-26 18:00:57,705 INFO sqlalchemy.engine.Engine [no key 0.00338s] ()\n",
      "2023-11-26 18:00:57,708 INFO sqlalchemy.engine.Engine COMMIT\n"
     ]
    }
   ],
   "source": [
    "Base.metadata.create_all(engine)"
   ]
  },
  {
   "cell_type": "code",
   "execution_count": 83,
   "metadata": {},
   "outputs": [
    {
     "name": "stdout",
     "output_type": "stream",
     "text": [
      "2023-11-26 18:00:57,741 INFO sqlalchemy.engine.Engine BEGIN (implicit)\n",
      "2023-11-26 18:00:57,745 INFO sqlalchemy.engine.Engine SELECT name FROM sqlite_master WHERE type='table' AND name NOT LIKE 'sqlite~_%' ESCAPE '~' ORDER BY name\n",
      "2023-11-26 18:00:57,749 INFO sqlalchemy.engine.Engine [raw sql] ()\n",
      "2023-11-26 18:00:57,754 INFO sqlalchemy.engine.Engine ROLLBACK\n"
     ]
    },
    {
     "data": {
      "text/plain": [
       "['CLIENTE', 'CONTA']"
      ]
     },
     "execution_count": 83,
     "metadata": {},
     "output_type": "execute_result"
    }
   ],
   "source": [
    "from sqlalchemy import inspect\n",
    "\n",
    "inspect(engine).get_table_names()"
   ]
  },
  {
   "cell_type": "code",
   "execution_count": 84,
   "metadata": {},
   "outputs": [
    {
     "data": {
      "text/plain": [
       "Cliente(id=None, nome='alberto', sobrenome='frigatto')"
      ]
     },
     "execution_count": 84,
     "metadata": {},
     "output_type": "execute_result"
    }
   ],
   "source": [
    "alberto = Cliente(nome='alberto', sobrenome='frigatto')\n",
    "alberto"
   ]
  },
  {
   "cell_type": "code",
   "execution_count": 85,
   "metadata": {},
   "outputs": [
    {
     "data": {
      "text/plain": [
       "Cliente(id=None, nome='gustavo', sobrenome=None)"
      ]
     },
     "execution_count": 85,
     "metadata": {},
     "output_type": "execute_result"
    }
   ],
   "source": [
    "gustavo = Cliente(nome='gustavo')\n",
    "gustavo"
   ]
  },
  {
   "cell_type": "code",
   "execution_count": 86,
   "metadata": {},
   "outputs": [
    {
     "data": {
      "text/plain": [
       "<sqlalchemy.orm.session.Session at 0x2be7343a410>"
      ]
     },
     "execution_count": 86,
     "metadata": {},
     "output_type": "execute_result"
    }
   ],
   "source": [
    "from sqlalchemy.orm import Session\n",
    "\n",
    "session = Session(engine, expire_on_commit=False)\n",
    "session"
   ]
  },
  {
   "cell_type": "code",
   "execution_count": 87,
   "metadata": {},
   "outputs": [],
   "source": [
    "session.add(alberto)\n",
    "session.add(gustavo)"
   ]
  },
  {
   "cell_type": "code",
   "execution_count": 88,
   "metadata": {},
   "outputs": [
    {
     "data": {
      "text/plain": [
       "IdentitySet([Cliente(id=None, nome='alberto', sobrenome='frigatto'), Cliente(id=None, nome='gustavo', sobrenome=None)])"
      ]
     },
     "execution_count": 88,
     "metadata": {},
     "output_type": "execute_result"
    }
   ],
   "source": [
    "session.new"
   ]
  },
  {
   "cell_type": "code",
   "execution_count": 89,
   "metadata": {},
   "outputs": [
    {
     "name": "stdout",
     "output_type": "stream",
     "text": [
      "2023-11-26 18:00:57,977 INFO sqlalchemy.engine.Engine BEGIN (implicit)\n",
      "2023-11-26 18:00:57,984 INFO sqlalchemy.engine.Engine INSERT INTO \"CLIENTE\" (nome, sobrenome) VALUES (?, ?) RETURNING id\n",
      "2023-11-26 18:00:57,987 INFO sqlalchemy.engine.Engine [generated in 0.00051s (insertmanyvalues) 1/2 (ordered; batch not supported)] ('alberto', 'frigatto')\n",
      "2023-11-26 18:00:57,991 INFO sqlalchemy.engine.Engine INSERT INTO \"CLIENTE\" (nome, sobrenome) VALUES (?, ?) RETURNING id\n",
      "2023-11-26 18:00:57,995 INFO sqlalchemy.engine.Engine [insertmanyvalues 2/2 (ordered; batch not supported)] ('gustavo', None)\n"
     ]
    }
   ],
   "source": [
    "session.flush()"
   ]
  },
  {
   "cell_type": "code",
   "execution_count": 90,
   "metadata": {},
   "outputs": [
    {
     "data": {
      "text/plain": [
       "Cliente(id=2, nome='gustavo', sobrenome=None)"
      ]
     },
     "execution_count": 90,
     "metadata": {},
     "output_type": "execute_result"
    }
   ],
   "source": [
    "gustavo"
   ]
  },
  {
   "cell_type": "code",
   "execution_count": 91,
   "metadata": {},
   "outputs": [
    {
     "data": {
      "text/plain": [
       "Cliente(id=2, nome='gustavo', sobrenome=None)"
      ]
     },
     "execution_count": 91,
     "metadata": {},
     "output_type": "execute_result"
    }
   ],
   "source": [
    "session.get(Cliente, 2)"
   ]
  },
  {
   "cell_type": "code",
   "execution_count": 92,
   "metadata": {},
   "outputs": [
    {
     "name": "stdout",
     "output_type": "stream",
     "text": [
      "2023-11-26 18:00:58,179 INFO sqlalchemy.engine.Engine COMMIT\n"
     ]
    }
   ],
   "source": [
    "session.commit()\n",
    "session.close()"
   ]
  },
  {
   "cell_type": "code",
   "execution_count": 93,
   "metadata": {},
   "outputs": [
    {
     "data": {
      "text/plain": [
       "1"
      ]
     },
     "execution_count": 93,
     "metadata": {},
     "output_type": "execute_result"
    }
   ],
   "source": [
    "alberto.id"
   ]
  },
  {
   "cell_type": "code",
   "execution_count": 94,
   "metadata": {},
   "outputs": [
    {
     "data": {
      "text/plain": [
       "2"
      ]
     },
     "execution_count": 94,
     "metadata": {},
     "output_type": "execute_result"
    }
   ],
   "source": [
    "gustavo.id"
   ]
  },
  {
   "cell_type": "code",
   "execution_count": 95,
   "metadata": {},
   "outputs": [
    {
     "name": "stdout",
     "output_type": "stream",
     "text": [
      "SELECT \"CLIENTE\".id, \"CLIENTE\".nome, \"CLIENTE\".sobrenome \n",
      "FROM \"CLIENTE\"\n"
     ]
    }
   ],
   "source": [
    "from sqlalchemy import select\n",
    "\n",
    "print(select(Cliente))"
   ]
  },
  {
   "cell_type": "code",
   "execution_count": 96,
   "metadata": {},
   "outputs": [
    {
     "name": "stdout",
     "output_type": "stream",
     "text": [
      "2023-11-26 18:00:58,410 INFO sqlalchemy.engine.Engine BEGIN (implicit)\n",
      "2023-11-26 18:00:58,419 INFO sqlalchemy.engine.Engine SELECT \"CLIENTE\".id, \"CLIENTE\".nome, \"CLIENTE\".sobrenome \n",
      "FROM \"CLIENTE\"\n",
      "2023-11-26 18:00:58,421 INFO sqlalchemy.engine.Engine [generated in 0.00206s] ()\n",
      "1 -> alberto -> frigatto\n",
      "2 -> gustavo -> None\n",
      "2023-11-26 18:00:58,426 INFO sqlalchemy.engine.Engine ROLLBACK\n"
     ]
    }
   ],
   "source": [
    "with Session(engine) as session:\n",
    "    result = session.scalars(select(Cliente))\n",
    "\n",
    "    for cliente in result:\n",
    "        print(f'{cliente.id} -> {cliente.nome} -> {cliente.sobrenome}')"
   ]
  }
 ],
 "metadata": {
  "kernelspec": {
   "display_name": ".venv",
   "language": "python",
   "name": "python3"
  },
  "language_info": {
   "codemirror_mode": {
    "name": "ipython",
    "version": 3
   },
   "file_extension": ".py",
   "mimetype": "text/x-python",
   "name": "python",
   "nbconvert_exporter": "python",
   "pygments_lexer": "ipython3",
   "version": "3.10.9"
  }
 },
 "nbformat": 4,
 "nbformat_minor": 2
}
