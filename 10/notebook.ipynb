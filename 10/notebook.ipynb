{
 "cells": [
  {
   "cell_type": "code",
   "execution_count": 177,
   "metadata": {},
   "outputs": [
    {
     "data": {
      "text/plain": [
       "Engine(sqlite:///:memory:)"
      ]
     },
     "execution_count": 177,
     "metadata": {},
     "output_type": "execute_result"
    }
   ],
   "source": [
    "from sqlalchemy import create_engine\n",
    "\n",
    "engine = create_engine('sqlite:///:memory:', echo=True)\n",
    "engine"
   ]
  },
  {
   "cell_type": "code",
   "execution_count": 178,
   "metadata": {},
   "outputs": [],
   "source": [
    "from sqlalchemy.orm import DeclarativeBase\n",
    "\n",
    "class Base(DeclarativeBase):\n",
    "    pass"
   ]
  },
  {
   "cell_type": "code",
   "execution_count": 179,
   "metadata": {},
   "outputs": [
    {
     "name": "stdout",
     "output_type": "stream",
     "text": [
      "MetaData()\n"
     ]
    },
    {
     "data": {
      "text/plain": [
       "<sqlalchemy.orm.decl_api.registry at 0x1a9a8051450>"
      ]
     },
     "execution_count": 179,
     "metadata": {},
     "output_type": "execute_result"
    }
   ],
   "source": [
    "print(Base.metadata)\n",
    "Base.registry"
   ]
  },
  {
   "cell_type": "markdown",
   "metadata": {},
   "source": [
    "### Mapped classes"
   ]
  },
  {
   "cell_type": "code",
   "execution_count": 180,
   "metadata": {},
   "outputs": [],
   "source": [
    "from sqlalchemy.orm import Mapped, mapped_column, relationship\n",
    "from sqlalchemy import String, ForeignKey\n",
    "from typing import Optional, List\n",
    "\n",
    "\n",
    "class Cliente(Base):\n",
    "    __tablename__ = 'CLIENTE'\n",
    "\n",
    "    id: Mapped[int] = mapped_column(primary_key=True)\n",
    "    nome: Mapped[str] = mapped_column(String(50))\n",
    "    sobrenome: Mapped[Optional[str]]\n",
    "\n",
    "    contas: Mapped[List['Conta']] = relationship(back_populates='cliente')\n",
    "\n",
    "    def __repr__(self) -> str:\n",
    "        return f'Cliente(id={self.id!r}, nome={self.nome!r}, sobrenome={self.sobrenome!r}, contas={self.contas!r})'\n",
    "\n",
    "\n",
    "class Conta(Base):\n",
    "    __tablename__ = 'CONTA'\n",
    "\n",
    "    id: Mapped[int] = mapped_column(primary_key=True)\n",
    "    saldo: Mapped[float] = mapped_column(default=0)\n",
    "    id_cliente = mapped_column(ForeignKey('CLIENTE.id'))\n",
    "\n",
    "    cliente: Mapped[Cliente] = relationship(back_populates='contas')\n",
    "\n",
    "    def __repr__(self) -> str:\n",
    "        return f'Conta(id={self.id!r}, saldo={self.saldo!r}, id_cliente={self.id_cliente!r}, cliente={self.cliente.nome!r})'"
   ]
  },
  {
   "cell_type": "code",
   "execution_count": 181,
   "metadata": {},
   "outputs": [
    {
     "name": "stdout",
     "output_type": "stream",
     "text": [
      "2023-11-28 22:33:59,341 INFO sqlalchemy.engine.Engine BEGIN (implicit)\n",
      "2023-11-28 22:33:59,346 INFO sqlalchemy.engine.Engine PRAGMA main.table_info(\"CLIENTE\")\n",
      "2023-11-28 22:33:59,351 INFO sqlalchemy.engine.Engine [raw sql] ()\n",
      "2023-11-28 22:33:59,354 INFO sqlalchemy.engine.Engine PRAGMA temp.table_info(\"CLIENTE\")\n",
      "2023-11-28 22:33:59,357 INFO sqlalchemy.engine.Engine [raw sql] ()\n",
      "2023-11-28 22:33:59,359 INFO sqlalchemy.engine.Engine PRAGMA main.table_info(\"CONTA\")\n",
      "2023-11-28 22:33:59,367 INFO sqlalchemy.engine.Engine [raw sql] ()\n",
      "2023-11-28 22:33:59,373 INFO sqlalchemy.engine.Engine PRAGMA temp.table_info(\"CONTA\")\n",
      "2023-11-28 22:33:59,376 INFO sqlalchemy.engine.Engine [raw sql] ()\n",
      "2023-11-28 22:33:59,381 INFO sqlalchemy.engine.Engine \n",
      "CREATE TABLE \"CLIENTE\" (\n",
      "\tid INTEGER NOT NULL, \n",
      "\tnome VARCHAR(50) NOT NULL, \n",
      "\tsobrenome VARCHAR, \n",
      "\tPRIMARY KEY (id)\n",
      ")\n",
      "\n",
      "\n",
      "2023-11-28 22:33:59,383 INFO sqlalchemy.engine.Engine [no key 0.00226s] ()\n",
      "2023-11-28 22:33:59,389 INFO sqlalchemy.engine.Engine \n",
      "CREATE TABLE \"CONTA\" (\n",
      "\tid INTEGER NOT NULL, \n",
      "\tsaldo FLOAT NOT NULL, \n",
      "\tid_cliente INTEGER, \n",
      "\tPRIMARY KEY (id), \n",
      "\tFOREIGN KEY(id_cliente) REFERENCES \"CLIENTE\" (id)\n",
      ")\n",
      "\n",
      "\n",
      "2023-11-28 22:33:59,393 INFO sqlalchemy.engine.Engine [no key 0.00303s] ()\n",
      "2023-11-28 22:33:59,395 INFO sqlalchemy.engine.Engine COMMIT\n"
     ]
    }
   ],
   "source": [
    "Base.metadata.create_all(engine)"
   ]
  },
  {
   "cell_type": "code",
   "execution_count": 182,
   "metadata": {},
   "outputs": [
    {
     "name": "stdout",
     "output_type": "stream",
     "text": [
      "2023-11-28 22:33:59,430 INFO sqlalchemy.engine.Engine BEGIN (implicit)\n",
      "2023-11-28 22:33:59,435 INFO sqlalchemy.engine.Engine SELECT name FROM sqlite_master WHERE type='table' AND name NOT LIKE 'sqlite~_%' ESCAPE '~' ORDER BY name\n",
      "2023-11-28 22:33:59,438 INFO sqlalchemy.engine.Engine [raw sql] ()\n",
      "2023-11-28 22:33:59,442 INFO sqlalchemy.engine.Engine ROLLBACK\n"
     ]
    },
    {
     "data": {
      "text/plain": [
       "['CLIENTE', 'CONTA']"
      ]
     },
     "execution_count": 182,
     "metadata": {},
     "output_type": "execute_result"
    }
   ],
   "source": [
    "from sqlalchemy import inspect\n",
    "\n",
    "inspect(engine).get_table_names()"
   ]
  },
  {
   "cell_type": "code",
   "execution_count": 183,
   "metadata": {},
   "outputs": [
    {
     "data": {
      "text/plain": [
       "Cliente(id=None, nome='alberto', sobrenome='frigatto', contas=[])"
      ]
     },
     "execution_count": 183,
     "metadata": {},
     "output_type": "execute_result"
    }
   ],
   "source": [
    "alberto = Cliente(nome='alberto', sobrenome='frigatto')\n",
    "alberto"
   ]
  },
  {
   "cell_type": "code",
   "execution_count": 184,
   "metadata": {},
   "outputs": [
    {
     "data": {
      "text/plain": [
       "Cliente(id=None, nome='gustavo', sobrenome=None, contas=[])"
      ]
     },
     "execution_count": 184,
     "metadata": {},
     "output_type": "execute_result"
    }
   ],
   "source": [
    "gustavo = Cliente(nome='gustavo')\n",
    "gustavo"
   ]
  },
  {
   "cell_type": "code",
   "execution_count": 185,
   "metadata": {},
   "outputs": [
    {
     "data": {
      "text/plain": [
       "<sqlalchemy.orm.session.Session at 0x1a9a82f66e0>"
      ]
     },
     "execution_count": 185,
     "metadata": {},
     "output_type": "execute_result"
    }
   ],
   "source": [
    "from sqlalchemy.orm import Session\n",
    "\n",
    "session = Session(engine)\n",
    "session"
   ]
  },
  {
   "cell_type": "code",
   "execution_count": 186,
   "metadata": {},
   "outputs": [],
   "source": [
    "session.add(alberto)\n",
    "session.add(gustavo)"
   ]
  },
  {
   "cell_type": "code",
   "execution_count": 187,
   "metadata": {},
   "outputs": [
    {
     "data": {
      "text/plain": [
       "IdentitySet([Cliente(id=None, nome='alberto', sobrenome='frigatto', contas=[]), Cliente(id=None, nome='gustavo', sobrenome=None, contas=[])])"
      ]
     },
     "execution_count": 187,
     "metadata": {},
     "output_type": "execute_result"
    }
   ],
   "source": [
    "session.new"
   ]
  },
  {
   "cell_type": "code",
   "execution_count": 188,
   "metadata": {},
   "outputs": [
    {
     "name": "stdout",
     "output_type": "stream",
     "text": [
      "2023-11-28 22:33:59,724 INFO sqlalchemy.engine.Engine BEGIN (implicit)\n",
      "2023-11-28 22:33:59,732 INFO sqlalchemy.engine.Engine INSERT INTO \"CLIENTE\" (nome, sobrenome) VALUES (?, ?) RETURNING id\n",
      "2023-11-28 22:33:59,736 INFO sqlalchemy.engine.Engine [generated in 0.00036s (insertmanyvalues) 1/2 (ordered; batch not supported)] ('alberto', 'frigatto')\n",
      "2023-11-28 22:33:59,740 INFO sqlalchemy.engine.Engine INSERT INTO \"CLIENTE\" (nome, sobrenome) VALUES (?, ?) RETURNING id\n",
      "2023-11-28 22:33:59,745 INFO sqlalchemy.engine.Engine [insertmanyvalues 2/2 (ordered; batch not supported)] ('gustavo', None)\n"
     ]
    }
   ],
   "source": [
    "session.flush()"
   ]
  },
  {
   "cell_type": "code",
   "execution_count": 189,
   "metadata": {},
   "outputs": [
    {
     "name": "stdout",
     "output_type": "stream",
     "text": [
      "2023-11-28 22:33:59,793 INFO sqlalchemy.engine.Engine SELECT \"CONTA\".id AS \"CONTA_id\", \"CONTA\".saldo AS \"CONTA_saldo\", \"CONTA\".id_cliente AS \"CONTA_id_cliente\" \n",
      "FROM \"CONTA\" \n",
      "WHERE ? = \"CONTA\".id_cliente\n",
      "2023-11-28 22:33:59,799 INFO sqlalchemy.engine.Engine [generated in 0.00638s] (2,)\n"
     ]
    },
    {
     "data": {
      "text/plain": [
       "Cliente(id=2, nome='gustavo', sobrenome=None, contas=[])"
      ]
     },
     "execution_count": 189,
     "metadata": {},
     "output_type": "execute_result"
    }
   ],
   "source": [
    "gustavo"
   ]
  },
  {
   "cell_type": "code",
   "execution_count": 190,
   "metadata": {},
   "outputs": [
    {
     "data": {
      "text/plain": [
       "Cliente(id=2, nome='gustavo', sobrenome=None, contas=[])"
      ]
     },
     "execution_count": 190,
     "metadata": {},
     "output_type": "execute_result"
    }
   ],
   "source": [
    "session.get(Cliente, 2)"
   ]
  },
  {
   "cell_type": "code",
   "execution_count": 191,
   "metadata": {},
   "outputs": [
    {
     "data": {
      "text/plain": [
       "1"
      ]
     },
     "execution_count": 191,
     "metadata": {},
     "output_type": "execute_result"
    }
   ],
   "source": [
    "alberto.id"
   ]
  },
  {
   "cell_type": "code",
   "execution_count": 192,
   "metadata": {},
   "outputs": [
    {
     "data": {
      "text/plain": [
       "2"
      ]
     },
     "execution_count": 192,
     "metadata": {},
     "output_type": "execute_result"
    }
   ],
   "source": [
    "gustavo.id"
   ]
  },
  {
   "cell_type": "code",
   "execution_count": 193,
   "metadata": {},
   "outputs": [
    {
     "name": "stdout",
     "output_type": "stream",
     "text": [
      "2023-11-28 22:33:59,979 INFO sqlalchemy.engine.Engine COMMIT\n"
     ]
    }
   ],
   "source": [
    "session.commit()\n",
    "session.close()"
   ]
  },
  {
   "cell_type": "code",
   "execution_count": 194,
   "metadata": {},
   "outputs": [
    {
     "name": "stdout",
     "output_type": "stream",
     "text": [
      "SELECT \"CLIENTE\".id, \"CLIENTE\".nome, \"CLIENTE\".sobrenome \n",
      "FROM \"CLIENTE\"\n"
     ]
    }
   ],
   "source": [
    "from sqlalchemy import select\n",
    "\n",
    "print(select(Cliente))"
   ]
  },
  {
   "cell_type": "code",
   "execution_count": 195,
   "metadata": {},
   "outputs": [
    {
     "name": "stdout",
     "output_type": "stream",
     "text": [
      "2023-11-28 22:34:00,061 INFO sqlalchemy.engine.Engine BEGIN (implicit)\n",
      "2023-11-28 22:34:00,066 INFO sqlalchemy.engine.Engine SELECT \"CLIENTE\".id, \"CLIENTE\".nome, \"CLIENTE\".sobrenome \n",
      "FROM \"CLIENTE\"\n",
      "2023-11-28 22:34:00,069 INFO sqlalchemy.engine.Engine [generated in 0.00265s] ()\n",
      "1 -> alberto -> frigatto\n",
      "2 -> gustavo -> None\n",
      "2023-11-28 22:34:00,075 INFO sqlalchemy.engine.Engine ROLLBACK\n"
     ]
    }
   ],
   "source": [
    "with Session(engine) as session:\n",
    "    result = session.scalars(select(Cliente))\n",
    "\n",
    "    for cliente in result:\n",
    "        print(f'{cliente.id} -> {cliente.nome} -> {cliente.sobrenome}')"
   ]
  },
  {
   "cell_type": "code",
   "execution_count": 196,
   "metadata": {},
   "outputs": [
    {
     "name": "stdout",
     "output_type": "stream",
     "text": [
      "False\n"
     ]
    }
   ],
   "source": [
    "with Session(engine) as session:\n",
    "    vinicius = Cliente(nome='Vinicius', sobrenome='Alcântara')\n",
    "    # session.add(vinicius)\n",
    "\n",
    "    print(vinicius in session)"
   ]
  },
  {
   "cell_type": "code",
   "execution_count": 197,
   "metadata": {},
   "outputs": [
    {
     "name": "stdout",
     "output_type": "stream",
     "text": [
      "2023-11-28 22:34:00,143 INFO sqlalchemy.engine.Engine BEGIN (implicit)\n",
      "2023-11-28 22:34:00,148 INFO sqlalchemy.engine.Engine SELECT \"CLIENTE\".id, \"CLIENTE\".nome, \"CLIENTE\".sobrenome \n",
      "FROM \"CLIENTE\" \n",
      "WHERE \"CLIENTE\".nome = ?\n",
      "2023-11-28 22:34:00,150 INFO sqlalchemy.engine.Engine [generated in 0.00234s] ('gustavo',)\n",
      "2023-11-28 22:34:00,157 INFO sqlalchemy.engine.Engine SELECT \"CONTA\".id AS \"CONTA_id\", \"CONTA\".saldo AS \"CONTA_saldo\", \"CONTA\".id_cliente AS \"CONTA_id_cliente\" \n",
      "FROM \"CONTA\" \n",
      "WHERE ? = \"CONTA\".id_cliente\n",
      "2023-11-28 22:34:00,161 INFO sqlalchemy.engine.Engine [cached since 0.369s ago] (2,)\n",
      "Cliente(id=2, nome='gustavo', sobrenome=None, contas=[])\n",
      "2023-11-28 22:34:00,168 INFO sqlalchemy.engine.Engine SELECT \"CLIENTE\".id, \"CLIENTE\".nome, \"CLIENTE\".sobrenome \n",
      "FROM \"CLIENTE\" \n",
      "WHERE \"CLIENTE\".nome = ?\n",
      "2023-11-28 22:34:00,173 INFO sqlalchemy.engine.Engine [cached since 0.02516s ago] ('gustavo',)\n",
      "2023-11-28 22:34:00,182 INFO sqlalchemy.engine.Engine SELECT \"CONTA\".id AS \"CONTA_id\", \"CONTA\".saldo AS \"CONTA_saldo\", \"CONTA\".id_cliente AS \"CONTA_id_cliente\" \n",
      "FROM \"CONTA\" \n",
      "WHERE ? = \"CONTA\".id_cliente\n",
      "2023-11-28 22:34:00,184 INFO sqlalchemy.engine.Engine [cached since 0.3927s ago] (2,)\n",
      "Cliente(id=2, nome='gustavo', sobrenome=None, contas=[])\n",
      "2023-11-28 22:34:00,188 INFO sqlalchemy.engine.Engine ROLLBACK\n"
     ]
    }
   ],
   "source": [
    "with Session(engine) as session:\n",
    "    print(session.execute(select(Cliente).filter_by(nome='gustavo')).scalar_one())\n",
    "    print(session.scalar(select(Cliente).filter_by(nome='gustavo')))"
   ]
  },
  {
   "cell_type": "code",
   "execution_count": 198,
   "metadata": {},
   "outputs": [
    {
     "name": "stdout",
     "output_type": "stream",
     "text": [
      "2023-11-28 22:34:00,221 INFO sqlalchemy.engine.Engine BEGIN (implicit)\n",
      "2023-11-28 22:34:00,228 INFO sqlalchemy.engine.Engine SELECT \"CLIENTE\".id AS \"CLIENTE_id\", \"CLIENTE\".nome AS \"CLIENTE_nome\", \"CLIENTE\".sobrenome AS \"CLIENTE_sobrenome\" \n",
      "FROM \"CLIENTE\" \n",
      "WHERE \"CLIENTE\".id = ?\n",
      "2023-11-28 22:34:00,232 INFO sqlalchemy.engine.Engine [generated in 0.00399s] (1,)\n",
      "2023-11-28 22:34:00,240 INFO sqlalchemy.engine.Engine SELECT \"CONTA\".id AS \"CONTA_id\", \"CONTA\".saldo AS \"CONTA_saldo\", \"CONTA\".id_cliente AS \"CONTA_id_cliente\" \n",
      "FROM \"CONTA\" \n",
      "WHERE ? = \"CONTA\".id_cliente\n",
      "2023-11-28 22:34:00,242 INFO sqlalchemy.engine.Engine [cached since 0.4501s ago] (1,)\n"
     ]
    },
    {
     "data": {
      "text/plain": [
       "Cliente(id=1, nome='alberto', sobrenome='frigatto', contas=[])"
      ]
     },
     "execution_count": 198,
     "metadata": {},
     "output_type": "execute_result"
    }
   ],
   "source": [
    "session = Session(engine)\n",
    "\n",
    "alberto = session.get(Cliente, 1)\n",
    "alberto"
   ]
  },
  {
   "cell_type": "code",
   "execution_count": 199,
   "metadata": {},
   "outputs": [],
   "source": [
    "alberto.nome = 'Alberto Luíz'"
   ]
  },
  {
   "cell_type": "code",
   "execution_count": 200,
   "metadata": {},
   "outputs": [
    {
     "data": {
      "text/plain": [
       "IdentitySet([Cliente(id=1, nome='Alberto Luíz', sobrenome='frigatto', contas=[])])"
      ]
     },
     "execution_count": 200,
     "metadata": {},
     "output_type": "execute_result"
    }
   ],
   "source": [
    "session.dirty"
   ]
  },
  {
   "cell_type": "code",
   "execution_count": 201,
   "metadata": {},
   "outputs": [
    {
     "name": "stdout",
     "output_type": "stream",
     "text": [
      "2023-11-28 22:34:00,349 INFO sqlalchemy.engine.Engine UPDATE \"CLIENTE\" SET nome=? WHERE \"CLIENTE\".id = ?\n",
      "2023-11-28 22:34:00,355 INFO sqlalchemy.engine.Engine [generated in 0.00689s] ('Alberto Luíz', 1)\n",
      "2023-11-28 22:34:00,369 INFO sqlalchemy.engine.Engine SELECT \"CLIENTE\".sobrenome \n",
      "FROM \"CLIENTE\" \n",
      "WHERE \"CLIENTE\".id = ?\n",
      "2023-11-28 22:34:00,371 INFO sqlalchemy.engine.Engine [generated in 0.00241s] (2,)\n"
     ]
    }
   ],
   "source": [
    "alberto_sobrenome = session.scalar(select(Cliente.sobrenome).where(Cliente.id == 2))\n",
    "alberto_sobrenome"
   ]
  },
  {
   "cell_type": "code",
   "execution_count": 202,
   "metadata": {},
   "outputs": [],
   "source": [
    "session.delete(alberto)"
   ]
  },
  {
   "cell_type": "code",
   "execution_count": 203,
   "metadata": {},
   "outputs": [
    {
     "name": "stdout",
     "output_type": "stream",
     "text": [
      "2023-11-28 22:34:00,436 INFO sqlalchemy.engine.Engine DELETE FROM \"CLIENTE\" WHERE \"CLIENTE\".id = ?\n",
      "2023-11-28 22:34:00,439 INFO sqlalchemy.engine.Engine [generated in 0.00262s] (1,)\n",
      "2023-11-28 22:34:00,444 INFO sqlalchemy.engine.Engine SELECT \"CLIENTE\".id, \"CLIENTE\".nome, \"CLIENTE\".sobrenome \n",
      "FROM \"CLIENTE\" \n",
      "WHERE \"CLIENTE\".nome = ?\n",
      "2023-11-28 22:34:00,447 INFO sqlalchemy.engine.Engine [cached since 0.2985s ago] ('Alberto Luíz',)\n"
     ]
    }
   ],
   "source": [
    "session.execute(select(Cliente).filter_by(nome='Alberto Luíz')).first()"
   ]
  },
  {
   "cell_type": "code",
   "execution_count": 204,
   "metadata": {},
   "outputs": [
    {
     "name": "stdout",
     "output_type": "stream",
     "text": [
      "2023-11-28 22:34:00,489 INFO sqlalchemy.engine.Engine INSERT INTO \"CLIENTE\" (nome, sobrenome) VALUES (?, ?)\n",
      "2023-11-28 22:34:00,494 INFO sqlalchemy.engine.Engine [generated in 0.00532s] ('Fred', 'Boat')\n",
      "2023-11-28 22:34:00,499 INFO sqlalchemy.engine.Engine COMMIT\n"
     ]
    }
   ],
   "source": [
    "fred = Cliente(nome='Fred', sobrenome='Boat')\n",
    "\n",
    "session.add(fred)\n",
    "session.commit()"
   ]
  },
  {
   "cell_type": "code",
   "execution_count": 205,
   "metadata": {},
   "outputs": [
    {
     "name": "stdout",
     "output_type": "stream",
     "text": [
      "2023-11-28 22:34:00,530 INFO sqlalchemy.engine.Engine BEGIN (implicit)\n",
      "2023-11-28 22:34:00,535 INFO sqlalchemy.engine.Engine SELECT \"CLIENTE\".id AS \"CLIENTE_id\", \"CLIENTE\".nome AS \"CLIENTE_nome\", \"CLIENTE\".sobrenome AS \"CLIENTE_sobrenome\" \n",
      "FROM \"CLIENTE\" \n",
      "WHERE \"CLIENTE\".id = ?\n",
      "2023-11-28 22:34:00,537 INFO sqlalchemy.engine.Engine [generated in 0.00155s] (3,)\n",
      "2023-11-28 22:34:00,539 INFO sqlalchemy.engine.Engine SELECT \"CONTA\".id AS \"CONTA_id\", \"CONTA\".saldo AS \"CONTA_saldo\", \"CONTA\".id_cliente AS \"CONTA_id_cliente\" \n",
      "FROM \"CONTA\" \n",
      "WHERE ? = \"CONTA\".id_cliente\n",
      "2023-11-28 22:34:00,541 INFO sqlalchemy.engine.Engine [cached since 0.749s ago] (3,)\n"
     ]
    },
    {
     "data": {
      "text/plain": [
       "Cliente(id=3, nome='Fred', sobrenome='Boat', contas=[])"
      ]
     },
     "execution_count": 205,
     "metadata": {},
     "output_type": "execute_result"
    }
   ],
   "source": [
    "fred"
   ]
  },
  {
   "cell_type": "code",
   "execution_count": 206,
   "metadata": {},
   "outputs": [
    {
     "data": {
      "text/plain": [
       "{'_sa_instance_state': <sqlalchemy.orm.state.InstanceState at 0x1a9a82ee140>,\n",
       " 'id': 3,\n",
       " 'sobrenome': 'Boat',\n",
       " 'nome': 'Fred',\n",
       " 'contas': []}"
      ]
     },
     "execution_count": 206,
     "metadata": {},
     "output_type": "execute_result"
    }
   ],
   "source": [
    "fred.__dict__"
   ]
  },
  {
   "cell_type": "code",
   "execution_count": 207,
   "metadata": {},
   "outputs": [
    {
     "name": "stdout",
     "output_type": "stream",
     "text": [
      "2023-11-28 22:34:00,631 INFO sqlalchemy.engine.Engine ROLLBACK\n"
     ]
    }
   ],
   "source": [
    "session.rollback()"
   ]
  },
  {
   "cell_type": "code",
   "execution_count": 208,
   "metadata": {},
   "outputs": [
    {
     "data": {
      "text/plain": [
       "{'_sa_instance_state': <sqlalchemy.orm.state.InstanceState at 0x1a9a82ee140>}"
      ]
     },
     "execution_count": 208,
     "metadata": {},
     "output_type": "execute_result"
    }
   ],
   "source": [
    "fred.__dict__"
   ]
  },
  {
   "cell_type": "code",
   "execution_count": 209,
   "metadata": {},
   "outputs": [
    {
     "name": "stdout",
     "output_type": "stream",
     "text": [
      "2023-11-28 22:34:00,703 INFO sqlalchemy.engine.Engine BEGIN (implicit)\n",
      "2023-11-28 22:34:00,706 INFO sqlalchemy.engine.Engine SELECT \"CLIENTE\".id AS \"CLIENTE_id\", \"CLIENTE\".nome AS \"CLIENTE_nome\", \"CLIENTE\".sobrenome AS \"CLIENTE_sobrenome\" \n",
      "FROM \"CLIENTE\" \n",
      "WHERE \"CLIENTE\".id = ?\n",
      "2023-11-28 22:34:00,711 INFO sqlalchemy.engine.Engine [cached since 0.1757s ago] (3,)\n",
      "2023-11-28 22:34:00,717 INFO sqlalchemy.engine.Engine SELECT \"CONTA\".id AS \"CONTA_id\", \"CONTA\".saldo AS \"CONTA_saldo\", \"CONTA\".id_cliente AS \"CONTA_id_cliente\" \n",
      "FROM \"CONTA\" \n",
      "WHERE ? = \"CONTA\".id_cliente\n",
      "2023-11-28 22:34:00,719 INFO sqlalchemy.engine.Engine [cached since 0.9278s ago] (3,)\n"
     ]
    },
    {
     "data": {
      "text/plain": [
       "Cliente(id=3, nome='Fred', sobrenome='Boat', contas=[])"
      ]
     },
     "execution_count": 209,
     "metadata": {},
     "output_type": "execute_result"
    }
   ],
   "source": [
    "fred"
   ]
  },
  {
   "cell_type": "code",
   "execution_count": 210,
   "metadata": {},
   "outputs": [],
   "source": [
    "session.delete(fred)"
   ]
  },
  {
   "cell_type": "code",
   "execution_count": 211,
   "metadata": {},
   "outputs": [
    {
     "name": "stdout",
     "output_type": "stream",
     "text": [
      "2023-11-28 22:34:00,798 INFO sqlalchemy.engine.Engine ROLLBACK\n"
     ]
    }
   ],
   "source": [
    "session.rollback()"
   ]
  },
  {
   "cell_type": "code",
   "execution_count": 212,
   "metadata": {},
   "outputs": [
    {
     "name": "stdout",
     "output_type": "stream",
     "text": [
      "2023-11-28 22:34:00,822 INFO sqlalchemy.engine.Engine BEGIN (implicit)\n",
      "2023-11-28 22:34:00,828 INFO sqlalchemy.engine.Engine SELECT \"CLIENTE\".id AS \"CLIENTE_id\", \"CLIENTE\".nome AS \"CLIENTE_nome\", \"CLIENTE\".sobrenome AS \"CLIENTE_sobrenome\" \n",
      "FROM \"CLIENTE\" \n",
      "WHERE \"CLIENTE\".id = ?\n",
      "2023-11-28 22:34:00,831 INFO sqlalchemy.engine.Engine [cached since 0.2963s ago] (3,)\n",
      "2023-11-28 22:34:00,845 INFO sqlalchemy.engine.Engine SELECT \"CONTA\".id AS \"CONTA_id\", \"CONTA\".saldo AS \"CONTA_saldo\", \"CONTA\".id_cliente AS \"CONTA_id_cliente\" \n",
      "FROM \"CONTA\" \n",
      "WHERE ? = \"CONTA\".id_cliente\n",
      "2023-11-28 22:34:00,848 INFO sqlalchemy.engine.Engine [cached since 1.056s ago] (3,)\n"
     ]
    },
    {
     "data": {
      "text/plain": [
       "Cliente(id=3, nome='Fred', sobrenome='Boat', contas=[])"
      ]
     },
     "execution_count": 212,
     "metadata": {},
     "output_type": "execute_result"
    }
   ],
   "source": [
    "fred"
   ]
  },
  {
   "cell_type": "code",
   "execution_count": 213,
   "metadata": {},
   "outputs": [
    {
     "data": {
      "text/plain": [
       "True"
      ]
     },
     "execution_count": 213,
     "metadata": {},
     "output_type": "execute_result"
    }
   ],
   "source": [
    "fred in session"
   ]
  },
  {
   "cell_type": "code",
   "execution_count": 214,
   "metadata": {},
   "outputs": [
    {
     "name": "stdout",
     "output_type": "stream",
     "text": [
      "2023-11-28 22:34:00,922 INFO sqlalchemy.engine.Engine ROLLBACK\n"
     ]
    }
   ],
   "source": [
    "session.close()"
   ]
  },
  {
   "cell_type": "code",
   "execution_count": 215,
   "metadata": {},
   "outputs": [
    {
     "name": "stdout",
     "output_type": "stream",
     "text": [
      "2023-11-28 22:34:00,960 INFO sqlalchemy.engine.Engine BEGIN (implicit)\n",
      "2023-11-28 22:34:00,963 INFO sqlalchemy.engine.Engine SELECT \"CLIENTE\".id, \"CLIENTE\".nome, \"CLIENTE\".sobrenome \n",
      "FROM \"CLIENTE\"\n",
      "2023-11-28 22:34:00,966 INFO sqlalchemy.engine.Engine [cached since 0.8995s ago] ()\n",
      "2 -> gustavo -> None\n",
      "3 -> Fred -> Boat\n",
      "2023-11-28 22:34:00,977 INFO sqlalchemy.engine.Engine ROLLBACK\n"
     ]
    }
   ],
   "source": [
    "with Session(engine) as session:\n",
    "    result = session.scalars(select(Cliente))\n",
    "\n",
    "    for cliente in result:\n",
    "        print(f'{cliente.id} -> {cliente.nome} -> {cliente.sobrenome}')"
   ]
  },
  {
   "cell_type": "code",
   "execution_count": 216,
   "metadata": {},
   "outputs": [
    {
     "data": {
      "text/plain": [
       "Cliente(id=3, nome='Fred', sobrenome='Boat', contas=[])"
      ]
     },
     "execution_count": 216,
     "metadata": {},
     "output_type": "execute_result"
    }
   ],
   "source": [
    "fred"
   ]
  },
  {
   "cell_type": "code",
   "execution_count": 217,
   "metadata": {},
   "outputs": [
    {
     "data": {
      "text/plain": [
       "Conta(id=None, saldo=0, id_cliente=None, cliente='Fred')"
      ]
     },
     "execution_count": 217,
     "metadata": {},
     "output_type": "execute_result"
    }
   ],
   "source": [
    "conta_fred = Conta(saldo=0, cliente=fred)\n",
    "conta_fred"
   ]
  },
  {
   "cell_type": "code",
   "execution_count": 218,
   "metadata": {},
   "outputs": [
    {
     "name": "stdout",
     "output_type": "stream",
     "text": [
      "2023-11-28 22:34:01,095 INFO sqlalchemy.engine.Engine BEGIN (implicit)\n",
      "2023-11-28 22:34:01,100 INFO sqlalchemy.engine.Engine INSERT INTO \"CONTA\" (saldo, id_cliente) VALUES (?, ?)\n",
      "2023-11-28 22:34:01,103 INFO sqlalchemy.engine.Engine [generated in 0.00253s] (0.0, 3)\n",
      "2023-11-28 22:34:01,106 INFO sqlalchemy.engine.Engine COMMIT\n"
     ]
    }
   ],
   "source": [
    "session = Session(engine)\n",
    "\n",
    "session.add(conta_fred)\n",
    "session.commit()"
   ]
  },
  {
   "cell_type": "code",
   "execution_count": 219,
   "metadata": {},
   "outputs": [
    {
     "name": "stdout",
     "output_type": "stream",
     "text": [
      "2023-11-28 22:34:01,177 INFO sqlalchemy.engine.Engine BEGIN (implicit)\n",
      "2023-11-28 22:34:01,182 INFO sqlalchemy.engine.Engine SELECT \"CONTA\".id AS \"CONTA_id\", \"CONTA\".saldo AS \"CONTA_saldo\", \"CONTA\".id_cliente AS \"CONTA_id_cliente\" \n",
      "FROM \"CONTA\" \n",
      "WHERE \"CONTA\".id = ?\n",
      "2023-11-28 22:34:01,185 INFO sqlalchemy.engine.Engine [generated in 0.00384s] (1,)\n",
      "2023-11-28 22:34:01,190 INFO sqlalchemy.engine.Engine SELECT \"CLIENTE\".id AS \"CLIENTE_id\", \"CLIENTE\".nome AS \"CLIENTE_nome\", \"CLIENTE\".sobrenome AS \"CLIENTE_sobrenome\" \n",
      "FROM \"CLIENTE\" \n",
      "WHERE \"CLIENTE\".id = ?\n",
      "2023-11-28 22:34:01,195 INFO sqlalchemy.engine.Engine [cached since 0.6595s ago] (3,)\n"
     ]
    },
    {
     "data": {
      "text/plain": [
       "Conta(id=1, saldo=0.0, id_cliente=3, cliente='Fred')"
      ]
     },
     "execution_count": 219,
     "metadata": {},
     "output_type": "execute_result"
    }
   ],
   "source": [
    "conta_fred"
   ]
  },
  {
   "cell_type": "code",
   "execution_count": 220,
   "metadata": {},
   "outputs": [
    {
     "name": "stdout",
     "output_type": "stream",
     "text": [
      "2023-11-28 22:34:01,239 INFO sqlalchemy.engine.Engine SELECT \"CONTA\".id AS \"CONTA_id\", \"CONTA\".saldo AS \"CONTA_saldo\", \"CONTA\".id_cliente AS \"CONTA_id_cliente\" \n",
      "FROM \"CONTA\" \n",
      "WHERE ? = \"CONTA\".id_cliente\n",
      "2023-11-28 22:34:01,246 INFO sqlalchemy.engine.Engine [cached since 1.454s ago] (3,)\n"
     ]
    },
    {
     "data": {
      "text/plain": [
       "Conta(id=1, saldo=0.0, id_cliente=3, cliente='Fred')"
      ]
     },
     "execution_count": 220,
     "metadata": {},
     "output_type": "execute_result"
    }
   ],
   "source": [
    "fred.contas[0]"
   ]
  },
  {
   "cell_type": "code",
   "execution_count": 221,
   "metadata": {},
   "outputs": [
    {
     "name": "stdout",
     "output_type": "stream",
     "text": [
      "2023-11-28 22:34:01,358 INFO sqlalchemy.engine.Engine ROLLBACK\n"
     ]
    }
   ],
   "source": [
    "session.close()"
   ]
  }
 ],
 "metadata": {
  "kernelspec": {
   "display_name": ".venv",
   "language": "python",
   "name": "python3"
  },
  "language_info": {
   "codemirror_mode": {
    "name": "ipython",
    "version": 3
   },
   "file_extension": ".py",
   "mimetype": "text/x-python",
   "name": "python",
   "nbconvert_exporter": "python",
   "pygments_lexer": "ipython3",
   "version": "3.10.9"
  }
 },
 "nbformat": 4,
 "nbformat_minor": 2
}
